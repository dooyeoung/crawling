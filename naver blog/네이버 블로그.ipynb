{
 "cells": [
  {
   "cell_type": "markdown",
   "metadata": {},
   "source": [
    "네이버 블로그로 작성한 글을 cafe24 게시판에 옮기기 위해 네이버 블로그 글을 크롤링한 후 불필요한 태그를 제거하는 코드"
   ]
  },
  {
   "cell_type": "code",
   "execution_count": 1,
   "metadata": {
    "ExecuteTime": {
     "end_time": "2020-09-10T05:09:34.358949Z",
     "start_time": "2020-09-10T05:09:34.203951Z"
    }
   },
   "outputs": [],
   "source": [
    "import requests\n",
    "import base64\n",
    "import re\n",
    "import json\n",
    "import datetime \n",
    "import urllib\n",
    "from time import time, sleep\n",
    "from tqdm import tqdm_notebook\n",
    "import ftplib\n",
    "from bs4 import BeautifulSoup\n",
    "from dateutil import parser\n",
    "from selenium import webdriver\n"
   ]
  },
  {
   "cell_type": "code",
   "execution_count": 2,
   "metadata": {
    "ExecuteTime": {
     "end_time": "2020-09-10T04:51:47.284978Z",
     "start_time": "2020-09-10T04:51:45.446671Z"
    }
   },
   "outputs": [],
   "source": [
    "options = webdriver.ChromeOptions()  \n",
    "options.add_argument('headless')\n",
    "options.add_argument('window-size=1920x1080')\n",
    "options.add_argument(\"disable-gpu\")\n",
    "\n",
    "driver = webdriver.Chrome('/Users/dooyeoung/Documents/webdriver/chromedriver', \n",
    "#                           chrome_options=options\n",
    ")\n",
    "\n",
    " \n",
    "blogurl = 'https://m.blog.naver.com/qweqweqwe/222078412158'\n",
    "driver.get(blogurl)\n",
    "contents = driver.find_elements_by_css_selector('.se-main-container .se-component')"
   ]
  },
  {
   "cell_type": "code",
   "execution_count": 27,
   "metadata": {
    "ExecuteTime": {
     "end_time": "2020-09-10T04:46:02.104500Z",
     "start_time": "2020-09-10T04:46:01.812429Z"
    },
    "scrolled": true
   },
   "outputs": [],
   "source": [
    "html = ''\n",
    "filter_li = []\n",
    "for c in contents:\n",
    "    class_list = c.get_attribute('class').replace('se-component','').replace('se-l-default','').strip()\n",
    "    class_list = class_list.split(' ')\n",
    "\n",
    "    if class_list[0] == 'se-text':\n",
    "        html += '''\n",
    "<div class=\"contents_text\">\n",
    "    {}\n",
    "</div>\n",
    "    '''.format('<br>'.join(c.text.split('\\n')) )\n",
    "    elif class_list[0] == 'se-sticker':\n",
    "        html +='<br><br>'\n",
    "    elif class_list[0] == 'se-image' :\n",
    "        linkdata = eval(c.find_element_by_tag_name('a').get_attribute('data-linkdata'))\n",
    "        linkdata['src'] = linkdata['src'] + '?type=w800'\n",
    "\n",
    "        html += '''\n",
    "<div class=\"contents_img\"> \n",
    "    <img class=\"m-auto\" src=\"{}\">\n",
    "</div>\n",
    "\n",
    "    '''.format( linkdata['src']) \n",
    "\n",
    "    elif class_list[0] == 'se-horizontalLine':\n",
    "        html += '<hr class=\"my-8\"> '\n",
    "\n",
    "    elif class_list[0] == 'se-imageStrip':\n",
    "        itag_li = ''\n",
    "        for img in  c.find_elements_by_tag_name('a'):\n",
    "            linkdata = eval(img.get_attribute('data-linkdata'))\n",
    "            linkdata['src'] = linkdata['src'] + '?type=w800'\n",
    "\n",
    "            itag = '''\n",
    "            <div class=\"flex-1\"> \n",
    "                <div style=\" height:300px;\n",
    "                background-image : url({});\n",
    "                background-repeat : no-repeat;\n",
    "                background-size: cover;\n",
    "                background-position: 50% 50%; \">\n",
    "                </div>\n",
    "            </div>\n",
    "            '''.format( linkdata['src'])\n",
    "            itag_li += itag\n",
    "\n",
    "\n",
    "        html += '''\n",
    "<div class=\"contents_img flex\"> \n",
    "    {}\n",
    "</div>\n",
    "        '''.format(itag_li)\n",
    "\n",
    "\n",
    "    elif class_list[0] == 'se-oglink':\n",
    "        info = c.find_element_by_class_name('se-oglink-info-container') \n",
    "        ogthumb = c.find_elements_by_class_name('se-oglink-thumbnail')\n",
    "        imgtag = ''\n",
    "        if len(ogthumb) > 0 :\n",
    "            ogthumb = ogthumb[0]\n",
    "            imgsrc = ogthumb.find_element_by_css_selector('img').get_attribute('src')\n",
    "            imgtag = '<img src=\"{}\"></img>'.format(imgsrc) \n",
    "\n",
    "        html += '''\n",
    "<div class=\"contents_oglink\"> \n",
    "    {}\n",
    "    {}\n",
    "</div>\n",
    "    '''.format(imgtag, info.get_attribute('outerHTML'))\n",
    "        filter_li.append(c)\n",
    "    elif class_list[0] == 'se-oembed':\n",
    "        youtube = c.find_element_by_class_name('se-module-oembed')\n",
    "\n",
    "    elif class_list[0] == 'se-quotation':\n",
    "        html += '''\n",
    "<div class=\"contents_text\">\n",
    "    <div class=\"text-2xl font-bold\">{}</div>\n",
    "    <div class=\"text-base text-grey\">{}</div>\n",
    "</div>'''.format(c.find_element_by_class_name('se-quote').text, c.find_element_by_class_name('se-cite').text)\n",
    "    else:\n",
    "        print(class_list)"
   ]
  },
  {
   "cell_type": "code",
   "execution_count": null,
   "metadata": {},
   "outputs": [],
   "source": []
  }
 ],
 "metadata": {
  "hide_input": false,
  "kernelspec": {
   "display_name": "Python 3",
   "language": "python",
   "name": "python3"
  },
  "language_info": {
   "codemirror_mode": {
    "name": "ipython",
    "version": 3
   },
   "file_extension": ".py",
   "mimetype": "text/x-python",
   "name": "python",
   "nbconvert_exporter": "python",
   "pygments_lexer": "ipython3",
   "version": "3.7.4"
  },
  "toc": {
   "base_numbering": 1,
   "nav_menu": {},
   "number_sections": true,
   "sideBar": true,
   "skip_h1_title": false,
   "title_cell": "Table of Contents",
   "title_sidebar": "Contents",
   "toc_cell": false,
   "toc_position": {},
   "toc_section_display": true,
   "toc_window_display": false
  }
 },
 "nbformat": 4,
 "nbformat_minor": 2
}

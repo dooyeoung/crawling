{
 "cells": [
  {
   "cell_type": "code",
   "execution_count": 10,
   "metadata": {
    "ExecuteTime": {
     "end_time": "2020-12-17T05:39:21.312167Z",
     "start_time": "2020-12-17T05:39:21.308852Z"
    }
   },
   "outputs": [],
   "source": [
    "from selenium import webdriver\n",
    "from selenium.webdriver.common.action_chains import ActionChains\n",
    "from selenium.webdriver.common.keys import Keys\n",
    "from time import time, sleep\n",
    "import os\n",
    "import datetime\n",
    "import pyperclip\n",
    "import json\n",
    "import shutil\n",
    "import path\n",
    "import re\n",
    "from bs4 import BeautifulSoup\n",
    "import pymysql"
   ]
  },
  {
   "cell_type": "code",
   "execution_count": null,
   "metadata": {},
   "outputs": [],
   "source": [
    "def get_date_numdays(begin, numdays):\n",
    "    ''' \n",
    "    begin : datetime.datetime(2020, 5, 23)\n",
    "    n_days : 30\n",
    "    '''\n",
    "    begin = datetime.datetime.today()\n",
    "    \n",
    "    date_li = [begin - datetime.timedelta(days=x) for x in range(numdays)]\n",
    "    return date_li\n",
    "\n",
    "def get_date_range(begin, end):\n",
    "    ''' \n",
    "    begin : datetime.datetime(2020, 5, 23)\n",
    "    end : datetime.datetime(2020, 3, 23)\n",
    "    '''\n",
    "    timedelta = begin - end\n",
    "    date_li = [begin - datetime.timedelta(days=x) for x in range(timedelta.days)]\n",
    "    return date_li\n"
   ]
  },
  {
   "cell_type": "code",
   "execution_count": null,
   "metadata": {},
   "outputs": [],
   "source": []
  },
  {
   "cell_type": "code",
   "execution_count": 11,
   "metadata": {
    "ExecuteTime": {
     "end_time": "2020-12-17T05:39:21.732963Z",
     "start_time": "2020-12-17T05:39:21.533912Z"
    }
   },
   "outputs": [],
   "source": [
    "cafe24_db = pymysql.connect(\n",
    "    user='csp', \n",
    "    passwd='!', \n",
    "    host='5 ', \n",
    "    db='statics', \n",
    "    charset='utf8'\n",
    ")\n",
    "cursor = cafe24_db.cursor(pymysql.cursors.DictCursor)\n",
    "\n",
    "sql = 'show tables;'\n",
    "cursor.execute(sql)\n",
    "tables = cursor.fetchall()"
   ]
  },
  {
   "cell_type": "markdown",
   "metadata": {},
   "source": [
    "# 마지막으로 수집한 데이터 확인"
   ]
  },
  {
   "cell_type": "code",
   "execution_count": 13,
   "metadata": {
    "ExecuteTime": {
     "end_time": "2020-12-17T05:39:23.768533Z",
     "start_time": "2020-12-17T05:39:22.900647Z"
    },
    "scrolled": true
   },
   "outputs": [
    {
     "name": "stdout",
     "output_type": "stream",
     "text": [
      "2020-12-15 2020-02-12 day_category\n",
      "2020-12-15 2019-01-01 day_category_product\n",
      "2020-12-15 2019-01-01 day_domain\n",
      "2020-12-15 2019-01-01 day_new_member\n",
      "2020-10-20 21:32:20 2019-01-01 00:36:43 day_order\n",
      "2020-12-15 2019-01-01 day_page_depth\n",
      "2020-12-15 2019-01-01 day_pay_step\n",
      "2020-12-15 2019-01-01 day_product\n",
      "2020-12-15 2019-01-01 day_product_option\n",
      "2020-12-15 2019-01-01 day_revisit_period\n",
      "2020-12-15 2019-01-01 day_sales\n",
      "2020-12-15 2019-01-01 day_search_engine\n",
      "2020-12-15 2019-01-01 day_search_keyword\n",
      "2020-12-15 2019-01-01 day_url\n",
      "2020-12-15 2019-01-01 day_visit_count\n",
      "2020-12-15 2019-01-01 hour_first_re_count_amout\n",
      "2020-12-15 2019-01-01 hour_payment\n",
      "2020-12-15 2019-01-01 hour_product\n",
      "2020-12-15 2019-01-01 hour_view_visit\n",
      "2020-11-16 2019-08-13 shopify_day_product\n"
     ]
    }
   ],
   "source": [
    "for table in tables:\n",
    "    table = table['Tables_in_statics']\n",
    "    if table.startswith('view') or  table.startswith('fbig_'):\n",
    "        continue\n",
    "    sql = 'select max(date) as enddate, min(date) as begindate from {}'.format(table)\n",
    "    cursor.execute(sql)\n",
    "    tmp = cursor.fetchone()\n",
    "    enddate = tmp['enddate']\n",
    "    begindate = tmp['begindate']\n",
    "    \n",
    "    print( enddate, begindate, table)\n"
   ]
  },
  {
   "cell_type": "markdown",
   "metadata": {
    "ExecuteTime": {
     "end_time": "2020-12-21T02:33:19.644231Z",
     "start_time": "2020-12-21T02:33:19.642010Z"
    }
   },
   "source": [
    "# 수집할 기간 설정\n",
    "수집데이터 저장 경로 설정"
   ]
  },
  {
   "cell_type": "code",
   "execution_count": 16,
   "metadata": {
    "ExecuteTime": {
     "end_time": "2020-12-17T05:39:25.600464Z",
     "start_time": "2020-12-17T05:39:25.595688Z"
    }
   },
   "outputs": [
    {
     "data": {
      "text/plain": [
       "[datetime.datetime(2020, 10, 22, 0, 0)]"
      ]
     },
     "execution_count": 16,
     "metadata": {},
     "output_type": "execute_result"
    }
   ],
   "source": [
    "today = datetime.datetime.today()\n",
    "date_li = get_date_range( datetime.datetime(2020,10, 22), datetime.datetime(2020, 10, 21) )\n",
    "maxdate = max(date_li).strftime('%Y%m%d')\n",
    "mindate = min(date_li).strftime('%Y%m%d')\n",
    "\n",
    "down_path = '/Users/dooyeoung/Documents/dashboard/download_{}_{}'.format(maxdate, mindate)\n",
    "\n",
    "if os.path.exists(down_path) == False:\n",
    "    os.mkdir(down_path)"
   ]
  },
  {
   "cell_type": "markdown",
   "metadata": {},
   "source": [
    "# cafe24 로그인후 접속통계로 이동"
   ]
  },
  {
   "cell_type": "code",
   "execution_count": 8,
   "metadata": {
    "ExecuteTime": {
     "end_time": "2020-12-17T05:29:26.122435Z",
     "start_time": "2020-12-17T05:29:24.479573Z"
    }
   },
   "outputs": [],
   "source": [
    "options = webdriver.ChromeOptions()\n",
    "\n",
    "hidden_browser = False\n",
    "prefs = {'download.default_directory' : down_path}\n",
    "options.add_experimental_option('prefs', prefs)\n",
    "if hidden_browser:\n",
    "    options.add_argument('headless')\n",
    "    options.add_argument('window-size=1920x1080')\n",
    "    options.add_argument(\"disable-gpu\")\n",
    "driver = webdriver.Chrome(executable_path='/Users/dooyeoung/Documents/projects/webdriver/chromedriver', \n",
    "                          chrome_options=options)\n",
    "\n",
    "\n",
    "\n",
    "mallid = ''\n",
    "passwd = ''\n",
    "#  카페24 로그인\n",
    "driver.get('https://eclogin.cafe24.com/Shop/')\n",
    "driver.execute_script('''\n",
    "document.getElementById('mall_id').value = {};\n",
    "document.getElementById('userpasswd').value = '{}';\n",
    "'''.format(mallid, passwd))\n",
    "driver.find_element_by_css_selector('#tabAdmin > div > fieldset > p.gButton > a').click()\n",
    "sleep(2)\n",
    "\n",
    "\n",
    "# 비밀번호 변경하기 있는경우\n",
    "sleep(3)\n",
    "pwchange = driver.find_elements_by_css_selector('#iptBtnEm')\n",
    "if len(pwchange) > 0:\n",
    "    pwchange[0].click()\n",
    "    sleep(1)\n",
    "    \n",
    "    \n",
    "driver.get('https://'+mallid+'.cafe24.com/disp/admin/shop1/shop/frame?menu=270')\n",
    "main_handle = driver.current_window_handle\n",
    "\n",
    "driver.find_element_by_css_selector('#QA_Lnb_Menu1640').click()\n",
    "driver.switch_to_window(driver.window_handles[-1])\n",
    "report_handle = driver.current_window_handle"
   ]
  },
  {
   "cell_type": "code",
   "execution_count": null,
   "metadata": {},
   "outputs": [],
   "source": []
  },
  {
   "cell_type": "code",
   "execution_count": 10,
   "metadata": {
    "ExecuteTime": {
     "end_time": "2020-12-16T12:08:52.052654Z",
     "start_time": "2020-12-16T12:08:52.024125Z"
    }
   },
   "outputs": [],
   "source": [
    "def change_date(date):\n",
    "    driver.find_element_by_css_selector(\"a[onclick^='datePicker']\").click()\n",
    "    sleep(0.1)\n",
    "    driver.execute_script(\"javascript:pickTime_1('{}', '{}', '{}');\".format(date.year, date.month, date.day));\n",
    "    sleep(0.1)\n",
    "    driver.execute_script(\"javascript:pickTime_2('{}', '{}', '{}');\".format(date.year, date.month, date.day));\n",
    "    sleep(0.1)\n",
    "    driver.find_element_by_css_selector(\"a[onclick^='submit_form_period']\").click()\n",
    "    sleep(0.5)\n",
    "    \n",
    "def change_date_range(begin_date, end_date):\n",
    "    driver.find_element_by_css_selector(\"a[onclick^='datePicker']\").click()\n",
    "    sleep(0.1)\n",
    "    driver.execute_script(\"javascript:pickTime_1('{}', '{}', '{}');\".format(begin_date.year, begin_date.month, begin_date.day));\n",
    "    sleep(0.1)\n",
    "    driver.execute_script(\"javascript:pickTime_2('{}', '{}', '{}');\".format(end_date.year, end_date.month, end_date.day));\n",
    "    sleep(0.1)\n",
    "    driver.find_element_by_css_selector(\"a[onclick^='submit_form_period']\").click()\n",
    "    sleep(0.5)\n",
    "    \n",
    "def parse_table():\n",
    "    columns = [th.text.replace(' ','') for th in driver.find_elements_by_css_selector('#tbl_data thead th')]\n",
    "    innerHTML = driver.find_element_by_css_selector('#tbl_data tbody:nth-child(2)').get_attribute('innerHTML')\n",
    "    soup = BeautifulSoup(innerHTML, 'lxml')\n",
    "    \n",
    "    if len(innerHTML.strip()) == 0:\n",
    "        tmp = driver.find_elements_by_css_selector('#detail_pfm_total')\n",
    "        if len(tmp) > 0:\n",
    "            innerHTML = driver.find_element_by_css_selector('#detail_pfm_total').get_attribute('innerHTML')\n",
    "            soup = BeautifulSoup(innerHTML, 'lxml')\n",
    "    \n",
    "    \n",
    "    tr_li = soup.select('tr')\n",
    "    row_li = []\n",
    "    row = None\n",
    "    for tr in tr_li :\n",
    "        row = [td.text for td in tr.select('td')]\n",
    "        row_li.append(row)\n",
    "    \n",
    "    if row:\n",
    "        if len(row) != len(columns):\n",
    "            columns = None\n",
    "    \n",
    "    return pd.DataFrame(row_li, columns= columns)\n",
    "\n",
    "def scrap(url, date_li, gather_sub= True, sub_data_columns=None, time=\"time\" ):\n",
    "    '''\n",
    "    '''\n",
    "    # 전체 페이지수 접속\n",
    "    #url = 'https://elg-web.cafe24.com/elg/rpt/rpt_con_pvi_tab.php'\n",
    "    page_name = url.split('/')[-1].split('.')[0]\n",
    "    driver.get(url)\n",
    "    \n",
    "    sleep(0.2)\n",
    "    page_size = driver.find_elements_by_css_selector('select[name=\"page_size\"]')\n",
    "    if len(page_size) > 0:\n",
    "        try:\n",
    "            driver.find_element_by_css_selector('select[name=\"page_size\"] option[value=\"200\"]').click()\n",
    "            sleep(0.2)\n",
    "        except:\n",
    "            pass\n",
    "    \n",
    "    sleep(0.2)\n",
    "    unit_format = driver.find_elements_by_css_selector('#unit_format')\n",
    "    if len(unit_format) > 0:\n",
    "        try:\n",
    "            driver.find_element_by_css_selector('select#unit_format option[value=\"{}\"]'.format(time)).click()\n",
    "            sleep(0.2)\n",
    "        except:\n",
    "            pass\n",
    "        \n",
    "        \n",
    "    scrap_data_li = []\n",
    "    for date in date_li: \n",
    "        change_date(date) \n",
    "        scrap_data = parse_table() \n",
    "        scrap_data['date'] = date.strftime('%Y-%m-%d')\n",
    "        scrap_data_li.append(scrap_data) \n",
    "        \n",
    "        \n",
    "        if sub_data_columns and gather_sub:\n",
    "            down_sub_data(page_name, date, sub_data_columns)    \n",
    "\n",
    "    if len(scrap_data_li)> 0:\n",
    "        rdf = pd.concat(scrap_data_li).reset_index(drop=True)\n",
    "        fname = '{}/{}.csv'.format(down_path, page_name)\n",
    "        rdf.to_csv(fname, index=False)\n",
    "        print('save {}'.format(fname))\n",
    "    else:\n",
    "        print('{} has no data'.format(fname) )\n",
    "\n",
    "        \n",
    "        \n",
    "def scrap_onlyday(url, date_li, gather_sub= True, sub_data_columns=None, ):\n",
    "    '''\n",
    "    '''\n",
    "    # 전체 페이지수 접속\n",
    "    #url = 'https://elg-web.cafe24.com/elg/rpt/rpt_con_pvi_tab.php'\n",
    "    page_name = url.split('/')[-1].split('.')[0]\n",
    "    driver.get(url)\n",
    "    \n",
    "    sleep(0.2)\n",
    "    page_size = driver.find_elements_by_css_selector('select[name=\"page_size\"]')\n",
    "    if len(page_size) > 0:\n",
    "        try:\n",
    "            driver.find_element_by_css_selector('select[name=\"page_size\"] option[value=\"200\"]').click()\n",
    "            sleep(0.2)\n",
    "        except:\n",
    "            pass\n",
    "    \n",
    "    sleep(0.2)\n",
    "    unit_format = driver.find_elements_by_css_selector('#unit_format')\n",
    "    if len(unit_format) > 0:\n",
    "        try:\n",
    "            driver.find_element_by_css_selector('select#unit_format option[value=\"day\"]').click()\n",
    "            sleep(0.2)\n",
    "        except:\n",
    "            pass\n",
    "        \n",
    "        \n",
    "    scrap_data_li = []\n",
    "    change_date_range(min(date_li), max(date_li))\n",
    "    \n",
    "    scrap_data = parse_table() \n",
    "    #scrap_data['date'] = date.strftime('%Y-%m-%d')  \n",
    "\n",
    "    if len(scrap_data)> 0:\n",
    "        rdf = scrap_data\n",
    "        fname = '{}/{}.csv'.format(down_path, page_name)\n",
    "        rdf.to_csv(fname, index=False)\n",
    "        print('save {}'.format(fname))\n",
    "    else:\n",
    "        print('{} has no data'.format(fname) )\n",
    "    \n",
    "def down_sub_data(page_name, date, columns):\n",
    "    dtr_li = driver.find_elements_by_css_selector('#tbl_data > tbody:nth-child(2) > tr')\n",
    "\n",
    "    tmp_df_li = []\n",
    "    for tr in dtr_li :\n",
    "        hour = tr.find_element_by_css_selector('td:nth-child(1)').text\n",
    "        v1 = int(tr.find_element_by_css_selector('td:nth-child(3)').text.replace(',',''))\n",
    "        v2 = int(tr.find_element_by_css_selector('td:nth-child(4)').text.replace(',',''))\n",
    "\n",
    "        if v1+v2 > 0:\n",
    "            tr.find_element_by_css_selector('td.td_align_c a').click()\n",
    "\n",
    "            driver.switch_to_window(driver.window_handles[-1])\n",
    "            sleep(0.5)\n",
    "            pdtr_li = driver.find_elements_by_css_selector('table#tbl_data tbody tr')\n",
    "\n",
    "            row_li = []\n",
    "            for tr in pdtr_li:\n",
    "                td_li = [td.text for td in tr.find_elements_by_css_selector('td')] \n",
    "                if len(td_li) > 0:\n",
    "                    row_li.append(td_li)\n",
    "\n",
    "            try:\n",
    "                tmp = pd.DataFrame(row_li, columns=columns) \n",
    "                tmp = tmp[tmp[columns[0]] != '']\n",
    "                tmp['date'] = date.strftime('%Y-%m-%d')\n",
    "                tmp['hour'] = hour\n",
    "                tmp_df_li.append(tmp)\n",
    "\n",
    "                driver.close()\n",
    "                driver.switch_to_window(report_handle)\n",
    "            except Exception as e:\n",
    "                print(e)\n",
    "                display(pd.DataFrame(row_li))\n",
    "                break\n",
    "    \n",
    "    if len(tmp_df_li) > 0:\n",
    "    \n",
    "        subrdf = pd.concat(tmp_df_li).reset_index(drop=True)\n",
    "        fname = '{}/{}-{}.csv'.format(down_path,page_name, date.strftime('%Y%m%d'))\n",
    "        subrdf.to_csv(fname, index=False)\n",
    "        print('save {}'.format(fname))\n",
    "    else:\n",
    "        print('{} has no data'.format(date.strftime('%Y%m%d')))"
   ]
  },
  {
   "cell_type": "markdown",
   "metadata": {},
   "source": [
    "# 접속 통계의 데이터 수집"
   ]
  },
  {
   "cell_type": "code",
   "execution_count": 11,
   "metadata": {
    "ExecuteTime": {
     "end_time": "2020-12-16T12:10:13.408716Z",
     "start_time": "2020-12-16T12:08:52.054430Z"
    },
    "scrolled": true
   },
   "outputs": [
    {
     "name": "stdout",
     "output_type": "stream",
     "text": [
      "save /Users/dooyeoung/Documents/dashboard/download_20201022_20201022/rpt_con_vis_tab.csv\n",
      "save /Users/dooyeoung/Documents/dashboard/download_20201022_20201022/rpt_con_uni_tab.csv\n",
      "save /Users/dooyeoung/Documents/dashboard/download_20201022_20201022/rpt_con_fir_tab.csv\n",
      "save /Users/dooyeoung/Documents/dashboard/download_20201022_20201022/rpt_con_pvi_tab.csv\n",
      "save /Users/dooyeoung/Documents/dashboard/download_20201022_20201022/rpt_sal_pmd_tab.csv\n",
      "save /Users/dooyeoung/Documents/dashboard/download_20201022_20201022/rpt_sal_stp_tab.csv\n",
      "save /Users/dooyeoung/Documents/dashboard/download_20201022_20201022/rpt_cts_pag_tab.csv\n",
      "save /Users/dooyeoung/Documents/dashboard/download_20201022_20201022/rpt_buy_rec_tab.csv\n",
      "save /Users/dooyeoung/Documents/dashboard/download_20201022_20201022/rpt_buy_vis_tab.csv\n",
      "save /Users/dooyeoung/Documents/dashboard/download_20201022_20201022/rpt_pth_kdd_tab.csv\n",
      "save /Users/dooyeoung/Documents/dashboard/download_20201022_20201022/rpt_pth_dod_tab.csv\n",
      "save /Users/dooyeoung/Documents/dashboard/download_20201022_20201022/rpt_pth_ufl_tab.csv\n",
      "save /Users/dooyeoung/Documents/dashboard/download_20201022_20201022/rpt_pag_fad_tab.csv\n",
      "save /Users/dooyeoung/Documents/dashboard/download_20201022_20201022/rpt_prd_sal_tab.csv\n",
      "save /Users/dooyeoung/Documents/dashboard/download_20201022_20201022/rpt_bsk_pin_tab.csv\n",
      "save /Users/dooyeoung/Documents/dashboard/download_20201022_20201022/rpt_bsk_out_tab.csv\n",
      "save /Users/dooyeoung/Documents/dashboard/download_20201022_20201022/rpt_vis_rec_tab.csv\n",
      "save /Users/dooyeoung/Documents/dashboard/download_20201022_20201022/rpt_vis_con_tab.csv\n",
      "save /Users/dooyeoung/Documents/dashboard/download_20201022_20201022/rpt_cts_sit_tab.csv\n",
      "save /Users/dooyeoung/Documents/dashboard/download_20201022_20201022/rpt_cts_ise_tab.csv\n",
      "save /Users/dooyeoung/Documents/dashboard/download_20201022_20201022/rpt_buy_dur_tab.csv\n",
      "save /Users/dooyeoung/Documents/dashboard/download_20201022_20201022/rpt_vis_nmb_tab.csv\n",
      "save /Users/dooyeoung/Documents/dashboard/download_20201022_20201022/rpt_rou_dth_tab.csv\n",
      "save /Users/dooyeoung/Documents/dashboard/download_20201022_20201022/rpt_buy_res_tab-20201022.csv\n",
      "save /Users/dooyeoung/Documents/dashboard/download_20201022_20201022/rpt_buy_res_tab.csv\n",
      "save /Users/dooyeoung/Documents/dashboard/download_20201022_20201022/rpt_prd_cas_tab-20201022.csv\n",
      "save /Users/dooyeoung/Documents/dashboard/download_20201022_20201022/rpt_prd_cas_tab.csv\n",
      "save /Users/dooyeoung/Documents/dashboard/download_20201022_20201022/rpt_pth_egd_tab-20201022.csv\n",
      "save /Users/dooyeoung/Documents/dashboard/download_20201022_20201022/rpt_pth_egd_tab.csv\n",
      "save /Users/dooyeoung/Documents/dashboard/download_20201022_20201022/rpt_pag_fad_tab.csv\n",
      "save /Users/dooyeoung/Documents/dashboard/download_20201022_20201022/rpt_prd_cas_tab-20201022.csv\n",
      "save /Users/dooyeoung/Documents/dashboard/download_20201022_20201022/rpt_prd_cas_tab.csv\n"
     ]
    }
   ],
   "source": [
    "scrap_onlyday('https://elg-web.cafe24.com/elg/rpt/rpt_con_vis_tab.php', date_li)\n",
    "scrap_onlyday('https://elg-web.cafe24.com/elg/rpt/rpt_con_uni_tab.php', date_li)\n",
    "scrap_onlyday('https://elg-web.cafe24.com/elg/rpt/rpt_con_fir_tab.php', date_li)\n",
    "scrap_onlyday('https://elg-web.cafe24.com/elg/rpt/rpt_con_pvi_tab.php', date_li)\n",
    "\n",
    "scrap('https://elg-web.cafe24.com/elg/rpt/rpt_sal_pmd_tab.php', date_li,) # 결제액\n",
    "scrap('https://elg-web.cafe24.com/elg/rpt/rpt_sal_stp_tab.php', date_li,) # 구매단계\n",
    "scrap('https://elg-web.cafe24.com/elg/rpt/rpt_cts_pag_tab.php', date_li,) # 페이지 체류시간 \n",
    "scrap('https://elg-web.cafe24.com/elg/rpt/rpt_buy_rec_tab.php', date_li,) # 첫방문 재방문\n",
    "scrap('https://elg-web.cafe24.com/elg/rpt/rpt_buy_vis_tab.php', date_li,) # 방문자 구매자\n",
    "\n",
    "scrap('https://elg-web.cafe24.com/elg/rpt/rpt_pth_kdd_tab.php', date_li) # 검색어\n",
    "scrap('https://elg-web.cafe24.com/elg/rpt/rpt_pth_dod_tab.php', date_li) # 방문 도메인\n",
    "scrap('https://elg-web.cafe24.com/elg/rpt/rpt_pth_ufl_tab.php', date_li) # 상세 url\n",
    "scrap('https://elg-web.cafe24.com/elg/rpt/rpt_pag_fad_tab.php', date_li) # 카테고리\n",
    "scrap('https://elg-web.cafe24.com/elg/rpt/rpt_prd_sal_tab.php', date_li) # 상품 판매량\n",
    "scrap('https://elg-web.cafe24.com/elg/rpt/rpt_bsk_pin_tab.php', date_li) # 장바구니 담기\n",
    "scrap('https://elg-web.cafe24.com/elg/rpt/rpt_bsk_out_tab.php', date_li) # 장바구니 포기\n",
    "\n",
    "scrap('https://elg-web.cafe24.com/elg/rpt/rpt_vis_rec_tab.php', date_li) # 다시찾아온 방문자\n",
    "scrap('https://elg-web.cafe24.com/elg/rpt/rpt_vis_con_tab.php', date_li) # 방문 횟수별\n",
    "scrap('https://elg-web.cafe24.com/elg/rpt/rpt_cts_sit_tab.php', date_li) # 일간 체류시간\n",
    "scrap('https://elg-web.cafe24.com/elg/rpt/rpt_cts_ise_tab.php', date_li) # 내부 검색어\n",
    "scrap('https://elg-web.cafe24.com/elg/rpt/rpt_buy_dur_tab.php', date_li) # 구매까지 걸린시간\n",
    "scrap('https://elg-web.cafe24.com/elg/rpt/rpt_vis_nmb_tab.php', date_li) # 신규 회원수\n",
    "scrap('https://elg-web.cafe24.com/elg/rpt/rpt_rou_dth_tab.php', date_li) # 방문경로 길이\n",
    "\n",
    "scrap('https://elg-web.cafe24.com/elg/rpt/rpt_buy_res_tab.php', date_li, gather_sub=True, \n",
    "      sub_data_columns=['상품명','처음구매','재구매','재구매율','처음구매','재구매','재구매율']) # 방문경로 길이\n",
    "\n",
    "scrap('https://elg-web.cafe24.com/elg/rpt/rpt_prd_cas_tab.php', date_li, gather_sub=True,\n",
    "      sub_data_columns=['상품명','노출수','담긴수','판매건수','판매물품수','판매율','판매금액']) # 방문경로 길이\n",
    "\n",
    "scrap('https://elg-web.cafe24.com/elg/rpt/rpt_pth_egd_tab.php', date_li, gather_sub=True,\n",
    "     sub_data_columns=['검색어','방문수','구매건수','구매율','매출액','방문당매출','구매당매출']) # 검색엔진\n",
    "\n",
    "\n",
    "scrap('https://elg-web.cafe24.com/elg/rpt/rpt_pag_fad_tab.php', date_li) # 카테고리\n",
    "scrap('https://elg-web.cafe24.com/elg/rpt/rpt_prd_cas_tab.php', date_li, gather_sub=True,\n",
    "      sub_data_columns=['상품명','노출수','담긴수','판매건수','판매물품수','판매율','판매금액']) # 방문경로 길이"
   ]
  },
  {
   "cell_type": "markdown",
   "metadata": {},
   "source": [
    "# 일별 매출 데이터 수집"
   ]
  },
  {
   "cell_type": "code",
   "execution_count": 12,
   "metadata": {
    "ExecuteTime": {
     "end_time": "2020-12-16T12:10:15.235954Z",
     "start_time": "2020-12-16T12:10:13.410404Z"
    }
   },
   "outputs": [],
   "source": [
    "driver.close()\n",
    "driver.switch_to_window(main_handle)\n",
    "tmp_li = []\n",
    "for date in date_li:\n",
    "    date = date.strftime('%Y-%m-%d')\n",
    "    url = 'https://'+mallid+'.cafe24.com/disp/admin/shop1/report/ProductPrdchart?start_date={}&end_date={}&searchDateRange=7&sEnableCategory=&rows=100&eProductSearchType=product_name&eOrderProductText=&eOrderProductNo=&iStartProductPrice=0&iEndProductPrice=0&sManufacturerCode=A&sSupplierCode=A&sBrandCode=A&sTrendCode=A&sClassificationCode=A&sMobileFlag=ALL&sOverseaFlag=ALL&sOrderBy=sale_cnt&sType=item&sCategory-1=0&sCategory-2=0&sCategory-3=0&sCategory-4=0&page={}'\n",
    "    driver.get(url.format(date, date, 1))\n",
    "    page_li = driver.find_elements_by_css_selector('.mPaginate li')\n",
    "    \n",
    "    row_li = []\n",
    "    \n",
    "    for page in range(1, len(page_li)+1):\n",
    "        if page == 1:\n",
    "            pass\n",
    "        else:\n",
    "            driver.get(url.format(date, date, page))\n",
    "        \n",
    "    \n",
    "        tbody = driver.find_element_by_css_selector('.mBoard.typeList tbody')\n",
    "    \n",
    "        soup = BeautifulSoup(tbody.get_attribute('innerHTML'), 'lxml')\n",
    "        tr_li = soup.select('tr')\n",
    "    \n",
    "        for tr in tr_li:\n",
    "            try:\n",
    "                prdprice = int(tr.select_one('td:nth-of-type(4)').getText().replace(',',''))\n",
    "                prdqty = int(tr.select_one('td:nth-of-type(8)').getText())\n",
    "                prdname = tr.select_one('td:nth-of-type(3) p').getText()\n",
    "                prdname = prdname.replace('\\n','').strip()\n",
    "                prdsum = int(tr.select_one('td:nth-of-type(9)').getText().replace(',',''))\n",
    "\n",
    "                option = ''\n",
    "                options = tr.select('td:nth-of-type(3) ul.etc > li')\n",
    "                if len(options) > 0: \n",
    "                    option = options[0].getText().split(':')[-1]\n",
    "                    option = re.sub('[0-9]{1,2}.', '',option).strip()\n",
    "\n",
    "                row = {'상품명':prdname, '옵션':option, '판매수량':prdqty,'판매가':prdprice, '판매합계':prdsum}\n",
    "                row_li.append(row)\n",
    "            except:\n",
    "                print('has not data {}'.format(date))\n",
    "                pass\n",
    "    \n",
    "    tmp = pd.DataFrame(row_li)\n",
    "    tmp['date'] = date\n",
    "    tmp_li.append(tmp)\n",
    "pd.concat(tmp_li).to_csv('{}/day_product_option.csv'.format(down_path),index=False)\n"
   ]
  },
  {
   "cell_type": "code",
   "execution_count": 13,
   "metadata": {
    "ExecuteTime": {
     "end_time": "2020-12-16T12:10:15.373563Z",
     "start_time": "2020-12-16T12:10:15.237531Z"
    }
   },
   "outputs": [],
   "source": [
    "driver.quit()"
   ]
  }
 ],
 "metadata": {
  "hide_input": false,
  "kernelspec": {
   "display_name": "Python 3",
   "language": "python",
   "name": "python3"
  },
  "language_info": {
   "codemirror_mode": {
    "name": "ipython",
    "version": 3
   },
   "file_extension": ".py",
   "mimetype": "text/x-python",
   "name": "python",
   "nbconvert_exporter": "python",
   "pygments_lexer": "ipython3",
   "version": "3.7.4"
  },
  "toc": {
   "base_numbering": 1,
   "nav_menu": {},
   "number_sections": true,
   "sideBar": true,
   "skip_h1_title": false,
   "title_cell": "Table of Contents",
   "title_sidebar": "Contents",
   "toc_cell": false,
   "toc_position": {},
   "toc_section_display": true,
   "toc_window_display": false
  }
 },
 "nbformat": 4,
 "nbformat_minor": 2
}

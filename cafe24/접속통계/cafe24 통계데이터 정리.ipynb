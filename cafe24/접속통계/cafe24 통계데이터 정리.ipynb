{
 "cells": [
  {
   "cell_type": "code",
   "execution_count": 1,
   "metadata": {
    "ExecuteTime": {
     "end_time": "2020-12-16T12:33:06.873941Z",
     "start_time": "2020-12-16T12:33:06.857174Z"
    }
   },
   "outputs": [],
   "source": [
    "import os\n",
    "import pymysql"
   ]
  },
  {
   "cell_type": "code",
   "execution_count": 2,
   "metadata": {
    "ExecuteTime": {
     "end_time": "2020-12-16T12:33:07.347860Z",
     "start_time": "2020-12-16T12:33:07.199045Z"
    }
   },
   "outputs": [],
   "source": [
    "cafe24_db = pymysql.connect(\n",
    "    user='csp', \n",
    "    passwd=' ', \n",
    "    host='5 ', \n",
    "    db='statics', \n",
    "    charset='utf8'\n",
    ")\n",
    "cursor = cafe24_db.cursor(pymysql.cursors.DictCursor)"
   ]
  },
  {
   "cell_type": "code",
   "execution_count": 5,
   "metadata": {
    "ExecuteTime": {
     "end_time": "2020-12-16T12:33:19.647376Z",
     "start_time": "2020-12-16T12:33:19.644798Z"
    }
   },
   "outputs": [],
   "source": [
    "down_path = 'download_20201215_20201023'\n",
    "merge_path = './merge_{}'.format(down_path)\n",
    "\n",
    "if os.path.exists(merge_path) == False:\n",
    "    os.mkdir(merge_path)"
   ]
  },
  {
   "cell_type": "code",
   "execution_count": null,
   "metadata": {},
   "outputs": [],
   "source": []
  },
  {
   "cell_type": "code",
   "execution_count": null,
   "metadata": {},
   "outputs": [],
   "source": []
  },
  {
   "cell_type": "markdown",
   "metadata": {},
   "source": [
    "# 일 단위 판매된 품목"
   ]
  },
  {
   "cell_type": "code",
   "execution_count": 5,
   "metadata": {
    "ExecuteTime": {
     "end_time": "2020-12-16T12:30:20.499066Z",
     "start_time": "2020-12-16T12:30:20.491924Z"
    },
    "scrolled": true
   },
   "outputs": [],
   "source": [
    "a = pd.read_csv('./{}/day_product_option.csv'.format(down_path))\n",
    "a['옵션'] = a['옵션'].fillna(a['상품명'])"
   ]
  },
  {
   "cell_type": "code",
   "execution_count": 6,
   "metadata": {
    "ExecuteTime": {
     "end_time": "2020-12-16T12:30:20.776085Z",
     "start_time": "2020-12-16T12:30:20.767661Z"
    },
    "scrolled": true
   },
   "outputs": [
    {
     "data": {
      "text/html": [
       "<div>\n",
       "<style scoped>\n",
       "    .dataframe tbody tr th:only-of-type {\n",
       "        vertical-align: middle;\n",
       "    }\n",
       "\n",
       "    .dataframe tbody tr th {\n",
       "        vertical-align: top;\n",
       "    }\n",
       "\n",
       "    .dataframe thead th {\n",
       "        text-align: right;\n",
       "    }\n",
       "</style>\n",
       "<table border=\"1\" class=\"dataframe\">\n",
       "  <thead>\n",
       "    <tr style=\"text-align: right;\">\n",
       "      <th></th>\n",
       "      <th>상품명</th>\n",
       "      <th>옵션</th>\n",
       "      <th>판매수량</th>\n",
       "      <th>판매가</th>\n",
       "      <th>판매합계</th>\n",
       "      <th>date</th>\n",
       "    </tr>\n",
       "  </thead>\n",
       "  <tbody>\n",
       "    <tr>\n",
       "      <td>1499</td>\n",
       "      <td>문라이트</td>\n",
       "      <td>문라이트</td>\n",
       "      <td>1</td>\n",
       "      <td>9900</td>\n",
       "      <td>9900</td>\n",
       "      <td>2020-10-24</td>\n",
       "    </tr>\n",
       "    <tr>\n",
       "      <td>1500</td>\n",
       "      <td>언더더씨</td>\n",
       "      <td>언더더씨</td>\n",
       "      <td>1</td>\n",
       "      <td>14900</td>\n",
       "      <td>14900</td>\n",
       "      <td>2020-10-24</td>\n",
       "    </tr>\n",
       "    <tr>\n",
       "      <td>1501</td>\n",
       "      <td>프렌즈포에버</td>\n",
       "      <td>프렌즈포에버</td>\n",
       "      <td>1</td>\n",
       "      <td>14900</td>\n",
       "      <td>14900</td>\n",
       "      <td>2020-10-24</td>\n",
       "    </tr>\n",
       "    <tr>\n",
       "      <td>1502</td>\n",
       "      <td>킹덤</td>\n",
       "      <td>킹덤</td>\n",
       "      <td>1</td>\n",
       "      <td>14900</td>\n",
       "      <td>14900</td>\n",
       "      <td>2020-10-23</td>\n",
       "    </tr>\n",
       "    <tr>\n",
       "      <td>1503</td>\n",
       "      <td>더크로스</td>\n",
       "      <td>더크로스</td>\n",
       "      <td>1</td>\n",
       "      <td>9900</td>\n",
       "      <td>9900</td>\n",
       "      <td>2020-10-23</td>\n",
       "    </tr>\n",
       "  </tbody>\n",
       "</table>\n",
       "</div>"
      ],
      "text/plain": [
       "         상품명      옵션  판매수량    판매가   판매합계        date\n",
       "1499    문라이트    문라이트     1   9900   9900  2020-10-24\n",
       "1500    언더더씨    언더더씨     1  14900  14900  2020-10-24\n",
       "1501  프렌즈포에버  프렌즈포에버     1  14900  14900  2020-10-24\n",
       "1502      킹덤      킹덤     1  14900  14900  2020-10-23\n",
       "1503    더크로스    더크로스     1   9900   9900  2020-10-23"
      ]
     },
     "execution_count": 6,
     "metadata": {},
     "output_type": "execute_result"
    }
   ],
   "source": [
    "a.tail()"
   ]
  },
  {
   "cell_type": "code",
   "execution_count": 7,
   "metadata": {
    "ExecuteTime": {
     "end_time": "2020-12-16T12:30:21.705776Z",
     "start_time": "2020-12-16T12:30:21.075140Z"
    },
    "scrolled": true
   },
   "outputs": [],
   "source": [
    "tmp = a\n",
    "sql = \"INSERT INTO `day_product_option`({}) VALUES ({});\".format(','.join([\"`{}`\".format(col) for col in tmp.columns]), \n",
    "                                                             ','.join(['%s']*len(tmp.columns)))\n",
    "\n",
    "data = [list(v) for v in tmp.values]\n",
    "cursor.executemany(sql, data)\n",
    "cafe24_db.commit()"
   ]
  },
  {
   "cell_type": "code",
   "execution_count": null,
   "metadata": {},
   "outputs": [],
   "source": []
  },
  {
   "cell_type": "markdown",
   "metadata": {},
   "source": [
    "# 방문자 데이터"
   ]
  },
  {
   "cell_type": "code",
   "execution_count": 8,
   "metadata": {
    "ExecuteTime": {
     "end_time": "2020-12-16T12:30:21.734385Z",
     "start_time": "2020-12-16T12:30:21.730979Z"
    }
   },
   "outputs": [],
   "source": [
    "def dropColumn(df, columns):\n",
    "    for dcol in columns:\n",
    "        if dcol in df.columns:\n",
    "            df = df.drop(columns=[dcol])\n",
    "    return df"
   ]
  },
  {
   "cell_type": "code",
   "execution_count": 9,
   "metadata": {
    "ExecuteTime": {
     "end_time": "2020-12-16T12:30:22.369798Z",
     "start_time": "2020-12-16T12:30:22.344198Z"
    }
   },
   "outputs": [],
   "source": [
    "a = pd.read_csv('./{}/rpt_con_pvi_tab.csv'.format(down_path))\n",
    "a = dropColumn(a,[ '전날평균','증감', '비교값'])\n",
    "        \n",
    "b = pd.read_csv('./{}/rpt_con_vis_tab.csv'.format(down_path))\n",
    "b = dropColumn(b,[ '전날평균','증감', '재방문', '비교값'])\n",
    "\n",
    "c = pd.read_csv('./{}/rpt_con_uni_tab.csv'.format(down_path))\n",
    "c = dropColumn(c,[ '전날평균','증감', '전체방문', '비교값'])\n",
    "\n",
    "# a = pd.read_csv('./{}/rpt_con_pvi_tab.csv'.format(down_path)).drop(columns=[ '전날평균','증감'])\n",
    "# b = pd.read_csv('./{}/rpt_con_vis_tab.csv'.format(down_path)).drop(columns=[ '전날평균','증감','재방문'])\n",
    "# c = pd.read_csv('./{}/rpt_con_uni_tab.csv'.format(down_path)).drop(columns=[ '전날평균','증감','전체방문'])\n",
    "\n",
    "a['페이지뷰'] = a['페이지뷰'].map(lambda x: x.replace(',','')).astype(int)\n",
    "tmp = pd.merge(a, b, on=['일시'], how='left')\n",
    "tmp = pd.merge(tmp, c, on=['일시'], how='left')\n",
    "#tmp['date'] = pd.to_datetime(tmp['date'])\n",
    "tmp = tmp.sort_values('일시', ascending=[False])\n",
    "tmp  = tmp.rename(columns={'일시':'date'})\n",
    "\n",
    "tmp['전체방문수'] = tmp['전체방문수'].map(lambda x: x.replace(',','') if type(x)==str else x).astype(int)\n",
    "tmp['순방문수'] = tmp['순방문수'].map(lambda x: x.replace(',','') if type(x)==str else x).astype(int)\n",
    "tmp['재방문수'] = tmp['재방문수'].map(lambda x: x.replace(',','') if type(x)==str else x).astype(int)\n",
    "tmp['처음방문'] = tmp['처음방문'].map(lambda x: x.replace(',','') if type(x)==str else x).astype(int)\n",
    "tmp.to_csv('./{}/hour_view_visit.csv'.format( merge_path), index=False, encoding='utf-8')"
   ]
  },
  {
   "cell_type": "code",
   "execution_count": 12,
   "metadata": {
    "ExecuteTime": {
     "end_time": "2020-12-16T12:30:23.301385Z",
     "start_time": "2020-12-16T12:30:23.294927Z"
    },
    "scrolled": true
   },
   "outputs": [
    {
     "data": {
      "text/html": [
       "<div>\n",
       "<style scoped>\n",
       "    .dataframe tbody tr th:only-of-type {\n",
       "        vertical-align: middle;\n",
       "    }\n",
       "\n",
       "    .dataframe tbody tr th {\n",
       "        vertical-align: top;\n",
       "    }\n",
       "\n",
       "    .dataframe thead th {\n",
       "        text-align: right;\n",
       "    }\n",
       "</style>\n",
       "<table border=\"1\" class=\"dataframe\">\n",
       "  <thead>\n",
       "    <tr style=\"text-align: right;\">\n",
       "      <th></th>\n",
       "      <th>date</th>\n",
       "      <th>페이지뷰</th>\n",
       "      <th>전체방문수</th>\n",
       "      <th>처음방문</th>\n",
       "      <th>순방문수</th>\n",
       "      <th>재방문수</th>\n",
       "    </tr>\n",
       "  </thead>\n",
       "  <tbody>\n",
       "    <tr>\n",
       "      <td>4</td>\n",
       "      <td>2020-10-27</td>\n",
       "      <td>1534</td>\n",
       "      <td>432</td>\n",
       "      <td>143</td>\n",
       "      <td>343</td>\n",
       "      <td>289</td>\n",
       "    </tr>\n",
       "    <tr>\n",
       "      <td>3</td>\n",
       "      <td>2020-10-26</td>\n",
       "      <td>1470</td>\n",
       "      <td>509</td>\n",
       "      <td>180</td>\n",
       "      <td>435</td>\n",
       "      <td>329</td>\n",
       "    </tr>\n",
       "    <tr>\n",
       "      <td>2</td>\n",
       "      <td>2020-10-25</td>\n",
       "      <td>1131</td>\n",
       "      <td>407</td>\n",
       "      <td>151</td>\n",
       "      <td>358</td>\n",
       "      <td>256</td>\n",
       "    </tr>\n",
       "    <tr>\n",
       "      <td>1</td>\n",
       "      <td>2020-10-24</td>\n",
       "      <td>907</td>\n",
       "      <td>329</td>\n",
       "      <td>133</td>\n",
       "      <td>294</td>\n",
       "      <td>196</td>\n",
       "    </tr>\n",
       "    <tr>\n",
       "      <td>0</td>\n",
       "      <td>2020-10-23</td>\n",
       "      <td>931</td>\n",
       "      <td>333</td>\n",
       "      <td>116</td>\n",
       "      <td>280</td>\n",
       "      <td>217</td>\n",
       "    </tr>\n",
       "  </tbody>\n",
       "</table>\n",
       "</div>"
      ],
      "text/plain": [
       "         date  페이지뷰  전체방문수  처음방문  순방문수  재방문수\n",
       "4  2020-10-27  1534    432   143   343   289\n",
       "3  2020-10-26  1470    509   180   435   329\n",
       "2  2020-10-25  1131    407   151   358   256\n",
       "1  2020-10-24   907    329   133   294   196\n",
       "0  2020-10-23   931    333   116   280   217"
      ]
     },
     "execution_count": 12,
     "metadata": {},
     "output_type": "execute_result"
    }
   ],
   "source": [
    "tmp.tail()"
   ]
  },
  {
   "cell_type": "code",
   "execution_count": 13,
   "metadata": {
    "ExecuteTime": {
     "end_time": "2020-12-16T12:30:23.833392Z",
     "start_time": "2020-12-16T12:30:23.573214Z"
    },
    "scrolled": true
   },
   "outputs": [],
   "source": [
    "sql = \"INSERT INTO `hour_view_visit`({}) VALUES ({});\".format(','.join(tmp.columns), \n",
    "                                                             ','.join(['%s']*len(tmp.columns)))\n",
    "\n",
    "data = [list(v) for v in tmp.values]\n",
    "cursor.executemany(sql, data)\n",
    "cafe24_db.commit()"
   ]
  },
  {
   "cell_type": "code",
   "execution_count": null,
   "metadata": {},
   "outputs": [],
   "source": []
  },
  {
   "cell_type": "code",
   "execution_count": null,
   "metadata": {},
   "outputs": [],
   "source": []
  },
  {
   "cell_type": "markdown",
   "metadata": {},
   "source": [
    "# 결제수단별 금액"
   ]
  },
  {
   "cell_type": "code",
   "execution_count": 14,
   "metadata": {
    "ExecuteTime": {
     "end_time": "2020-12-16T12:30:24.659715Z",
     "start_time": "2020-12-16T12:30:24.620455Z"
    }
   },
   "outputs": [],
   "source": [
    "d = pd.read_csv('./{}/rpt_sal_pmd_tab.csv'.format(down_path)).drop(columns=[ '합계'])\n",
    "d = d.rename(columns={'계좌이체\\n가상계좌': '계좌이체가상계좌'})\n",
    "d['현금'] = d['현금'].map(lambda x: x.replace(',','') if type(x)==str else x).astype(int)\n",
    "d['신용카드'] = d['신용카드'].map(lambda x: x.replace(',','') if type(x)==str else x).astype(int)\n",
    "d['예치금'] = d['예치금'].map(lambda x: x.replace(',','') if type(x)==str else x).astype(int)\n",
    "d['적립금'] = d['적립금'].map(lambda x: x.replace(',','') if type(x)==str else x).astype(int)\n",
    "d['계좌이체가상계좌'] = d['계좌이체가상계좌'].map(lambda x: x.replace(',','') if type(x)==str else x).astype(int)\n",
    "d['간편결제'] = d['간편결제'].map(lambda x: x.replace(',','') if type(x)==str else x).astype(int)\n",
    "d['휴대폰'] = d['휴대폰'].map(lambda x: x.replace(',','') if type(x)==str else x).astype(int)\n",
    "d['기타'] = d['기타'].map(lambda x: x.replace(',','') if type(x)==str else x).astype(int)\n",
    "\n",
    "tmp = d\n",
    "tmp['hour'] = tmp['일시'].str.replace('시','').astype(int)\n",
    "tmp = tmp.drop(columns=['일시'])\n",
    "#tmp = tmp.sort_values(['date', 'hour'], ascending=[True, True])\n",
    "tmp.to_csv('./{}/hour_payment.csv'.format(merge_path), index=False, encoding='utf-8')"
   ]
  },
  {
   "cell_type": "code",
   "execution_count": 16,
   "metadata": {
    "ExecuteTime": {
     "end_time": "2020-12-16T12:30:26.460614Z",
     "start_time": "2020-12-16T12:30:25.076322Z"
    }
   },
   "outputs": [],
   "source": [
    "sql = \"INSERT INTO `hour_payment`({}) VALUES ({});\".format(','.join(tmp.columns), \n",
    "                                                             ','.join(['%s']*len(tmp.columns)))\n",
    "\n",
    "data = [list(v) for v in tmp.values]\n",
    "cursor.executemany(sql, data)\n",
    "cafe24_db.commit()"
   ]
  },
  {
   "cell_type": "code",
   "execution_count": null,
   "metadata": {},
   "outputs": [],
   "source": []
  },
  {
   "cell_type": "code",
   "execution_count": null,
   "metadata": {},
   "outputs": [],
   "source": []
  },
  {
   "cell_type": "markdown",
   "metadata": {},
   "source": [
    "# 구매자(재방문, 처음구매) 매출"
   ]
  },
  {
   "cell_type": "code",
   "execution_count": 17,
   "metadata": {
    "ExecuteTime": {
     "end_time": "2020-12-16T12:30:26.513468Z",
     "start_time": "2020-12-16T12:30:26.462207Z"
    }
   },
   "outputs": [],
   "source": [
    "e = pd.read_csv('./{}/rpt_buy_vis_tab.csv'.format(down_path)).drop(columns=[ '구매율','방문자수'])\n",
    "f = pd.read_csv('./{}/rpt_buy_res_tab.csv'.format(down_path)).drop(columns=[ '1', '4','7','10'])\n",
    "f.columns= ['일시', '처음구매상품수','재구매상품수','처음구매건수','재구매건수','처음구매액','재구매액','date']\n",
    "g = pd.read_csv('./{}/rpt_buy_rec_tab.csv'.format(down_path)).drop(columns=[])\n",
    "g.columns=['일시', '처음방문수', '재방문수', '처음방문구매건수', '재방문구매건수', '처음방문구매액', '재방문구매액', '처음방문구매율', '재방문구매율', 'date']\n",
    "g = g.drop(columns=['처음방문수','재방문수', '재방문구매율', '처음방문구매율'])\n",
    "\n",
    "\n",
    "f['처음구매액'] = f['처음구매액'].map(lambda x: x.replace(',','') if type(x)==str else x).astype(int)\n",
    "f['재구매액'] = f['재구매액'].map(lambda x: x.replace(',','') if type(x)==str else x).astype(int)\n",
    "\n",
    "g['처음방문구매액'] = g['처음방문구매액'].map(lambda x: x.replace(',','') if type(x)==str else x).astype(int)\n",
    "g['재방문구매액'] = g['재방문구매액'].map(lambda x: x.replace(',','') if type(x)==str else x).astype(int)\n",
    "\n",
    "tmp = pd.merge(e, f, on=['일시','date'], how='left')\n",
    "tmp = pd.merge(tmp, g, on=['일시','date'], how='left')\n",
    "\n",
    "tmp['hour'] = tmp['일시'].str.replace('시','').astype(int)\n",
    "#tmp['date'] = pd.to_datetime(tmp['date'])\n",
    "tmp = tmp.drop(columns=['일시'])\n",
    "#tmp = tmp.sort_values(['date', 'hour'], ascending=[True, True])\n",
    "tmp.to_csv('./{}/hour_first_re_count_amout.csv'.format(merge_path), index=False, encoding='utf-8')"
   ]
  },
  {
   "cell_type": "code",
   "execution_count": 19,
   "metadata": {
    "ExecuteTime": {
     "end_time": "2020-12-16T12:30:27.647273Z",
     "start_time": "2020-12-16T12:30:26.528797Z"
    }
   },
   "outputs": [],
   "source": [
    "sql = \"INSERT INTO `hour_first_re_count_amout`({}) VALUES ({});\".format(','.join(tmp.columns), \n",
    "                                                             ','.join(['%s']*len(tmp.columns)))\n",
    "\n",
    "data = [list(v) for v in tmp.values]\n",
    "cursor.executemany(sql, data)\n",
    "cafe24_db.commit()"
   ]
  },
  {
   "cell_type": "code",
   "execution_count": null,
   "metadata": {},
   "outputs": [],
   "source": []
  },
  {
   "cell_type": "markdown",
   "metadata": {},
   "source": [
    "# 품목별 재구매, 처음구매 매출"
   ]
  },
  {
   "cell_type": "code",
   "execution_count": 20,
   "metadata": {
    "ExecuteTime": {
     "end_time": "2020-12-16T12:30:27.653627Z",
     "start_time": "2020-12-16T12:30:27.648865Z"
    },
    "collapsed": true
   },
   "outputs": [
    {
     "name": "stdout",
     "output_type": "stream",
     "text": [
      "['rpt_prd_cas_tab-20201126.csv', 'rpt_buy_res_tab-20201202.csv', 'rpt_buy_res_tab-20201028.csv', 'rpt_pth_egd_tab-20201024.csv', 'rpt_pth_egd_tab-20201030.csv', 'rpt_pth_egd_tab-20201031.csv', 'rpt_pth_egd_tab-20201025.csv', 'rpt_buy_res_tab-20201029.csv', 'rpt_buy_res_tab-20201203.csv', 'rpt_prd_cas_tab-20201127.csv', 'rpt_prd_cas_tab.csv', 'rpt_prd_cas_tab-20201125.csv', 'rpt_prd_cas_tab-20201119.csv', 'rpt_buy_res_tab-20201201.csv', 'rpt_buy_res_tab-20201215.csv', 'rpt_vis_nmb_tab.csv', 'rpt_pth_egd_tab-20201027.csv', 'rpt_pth_egd_tab-20201026.csv', 'rpt_rou_dth_tab.csv', 'rpt_buy_res_tab-20201214.csv', 'rpt_prd_cas_tab-20201118.csv', 'rpt_prd_cas_tab-20201124.csv', 'rpt_prd_cas_tab-20201130.csv', 'rpt_prd_cas_tab-20201108.csv', 'rpt_prd_cas_tab-20201120.csv', 'rpt_buy_res_tab-20201204.csv', 'rpt_buy_res_tab-20201210.csv', 'rpt_pth_egd_tab-20201208.csv', 'rpt_pth_egd_tab-20201023.csv', 'rpt_pth_egd_tab-20201209.csv', 'rpt_buy_res_tab-20201211.csv', 'rpt_buy_res_tab-20201205.csv', 'rpt_prd_cas_tab-20201121.csv', 'rpt_prd_cas_tab-20201109.csv', 'rpt_prd_cas_tab-20201123.csv', 'rpt_con_fir_tab.csv', 'rpt_buy_res_tab-20201213.csv', 'rpt_buy_res_tab-20201207.csv', 'rpt_pth_egd_tab.csv', 'rpt_cts_ise_tab.csv', 'rpt_vis_rec_tab.csv', 'day_product_option.csv', 'rpt_buy_res_tab-20201206.csv', 'rpt_buy_res_tab-20201212.csv', 'rpt_prd_cas_tab-20201122.csv', 'rpt_buy_res_tab-20201103.csv', 'rpt_con_pvi_tab.csv', 'rpt_buy_res_tab-20201117.csv', 'rpt_cts_pag_tab.csv', 'rpt_pth_egd_tab-20201127.csv', 'rpt_prd_cas_tab-20201031.csv', 'rpt_prd_cas_tab-20201025.csv', 'rpt_prd_cas_tab-20201024.csv', 'rpt_prd_cas_tab-20201030.csv', 'rpt_pth_egd_tab-20201126.csv', 'rpt_buy_res_tab-20201116.csv', 'rpt_buy_res_tab-20201102.csv', 'rpt_buy_res_tab-20201114.csv', 'rpt_buy_vis_tab.csv', 'rpt_buy_res_tab-20201128.csv', 'rpt_pth_egd_tab-20201118.csv', 'rpt_pth_egd_tab-20201124.csv', 'rpt_pth_egd_tab-20201130.csv', 'rpt_prd_cas_tab-20201026.csv', 'rpt_vis_con_tab.csv', 'rpt_pth_kdd_tab.csv', 'rpt_prd_cas_tab-20201027.csv', 'rpt_sal_stp_tab.csv', 'rpt_pth_egd_tab-20201125.csv', 'rpt_pth_egd_tab-20201119.csv', 'rpt_buy_res_tab-20201129.csv', 'rpt_buy_res_tab-20201101.csv', 'rpt_buy_res_tab-20201115.csv', 'rpt_buy_res_tab-20201111.csv', 'rpt_buy_res_tab-20201105.csv', 'rpt_pth_egd_tab-20201121.csv', 'rpt_pth_egd_tab-20201109.csv', 'rpt_prd_cas_tab-20201209.csv', 'rpt_prd_cas_tab-20201023.csv', 'rpt_prd_cas_tab-20201208.csv', 'rpt_pth_egd_tab-20201108.csv', 'rpt_pth_egd_tab-20201120.csv', 'rpt_buy_res_tab-20201104.csv', 'rpt_buy_res_tab-20201110.csv', 'rpt_buy_res_tab-20201106.csv', 'rpt_buy_res_tab-20201112.csv', 'rpt_pth_egd_tab-20201122.csv', 'rpt_buy_rec_tab.csv', 'rpt_pth_egd_tab-20201123.csv', 'rpt_buy_res_tab-20201113.csv', 'rpt_buy_res_tab-20201107.csv', 'rpt_cts_sit_tab.csv', 'rpt_buy_res_tab-20201122.csv', 'rpt_pth_egd_tab-20201112.csv', 'rpt_pth_egd_tab-20201106.csv', 'rpt_prd_cas_tab-20201212.csv', 'rpt_prd_cas_tab-20201206.csv', 'rpt_buy_res_tab.csv', 'rpt_prd_cas_tab-20201207.csv', 'rpt_prd_cas_tab-20201213.csv', 'rpt_pth_egd_tab-20201107.csv', 'rpt_buy_dur_tab.csv', 'rpt_pth_egd_tab-20201113.csv', 'rpt_buy_res_tab-20201123.csv', 'rpt_buy_res_tab-20201121.csv', 'rpt_buy_res_tab-20201109.csv', 'rpt_pth_egd_tab-20201105.csv', 'rpt_pth_egd_tab-20201111.csv', 'rpt_prd_cas_tab-20201205.csv', 'rpt_prd_cas_tab-20201211.csv', 'rpt_prd_cas_tab-20201210.csv', 'rpt_prd_cas_tab-20201204.csv', 'rpt_pth_egd_tab-20201110.csv', 'rpt_pth_egd_tab-20201104.csv', 'rpt_buy_res_tab-20201108.csv', 'rpt_buy_res_tab-20201120.csv', 'rpt_buy_res_tab-20201118.csv', 'rpt_buy_res_tab-20201130.csv', 'rpt_buy_res_tab-20201124.csv', 'rpt_pth_egd_tab-20201114.csv', 'rpt_pth_egd_tab-20201128.csv', 'rpt_bsk_out_tab.csv', 'rpt_prd_cas_tab-20201214.csv', 'rpt_prd_cas_tab-20201215.csv', 'rpt_prd_cas_tab-20201201.csv', 'rpt_pth_egd_tab-20201129.csv', 'rpt_pag_fad_tab.csv', 'rpt_pth_egd_tab-20201115.csv', 'rpt_pth_egd_tab-20201101.csv', 'rpt_buy_res_tab-20201125.csv', 'rpt_buy_res_tab-20201119.csv', 'rpt_buy_res_tab-20201127.csv', 'rpt_pth_egd_tab-20201117.csv', 'rpt_pth_egd_tab-20201103.csv', 'rpt_prd_cas_tab-20201203.csv', 'rpt_prd_cas_tab-20201029.csv', 'rpt_prd_cas_tab-20201028.csv', 'rpt_prd_cas_tab-20201202.csv', 'rpt_prd_sal_tab.csv', 'rpt_pth_egd_tab-20201102.csv', 'rpt_pth_egd_tab-20201116.csv', 'rpt_buy_res_tab-20201126.csv', 'rpt_prd_cas_tab-20201107.csv', 'rpt_prd_cas_tab-20201113.csv', 'rpt_pth_egd_tab-20201207.csv', 'rpt_pth_egd_tab-20201213.csv', 'rpt_pth_egd_tab-20201212.csv', 'rpt_pth_egd_tab-20201206.csv', 'rpt_prd_cas_tab-20201112.csv', 'rpt_prd_cas_tab-20201106.csv', 'rpt_prd_cas_tab-20201110.csv', 'rpt_prd_cas_tab-20201104.csv', 'rpt_buy_res_tab-20201208.csv', 'rpt_pth_egd_tab-20201210.csv', 'rpt_pth_egd_tab-20201204.csv', 'rpt_pth_dod_tab.csv', 'rpt_buy_res_tab-20201023.csv', 'rpt_pth_egd_tab-20201205.csv', 'rpt_pth_egd_tab-20201211.csv', 'rpt_buy_res_tab-20201209.csv', 'rpt_prd_cas_tab-20201105.csv', 'rpt_prd_cas_tab-20201111.csv', 'rpt_prd_cas_tab-20201129.csv', 'rpt_prd_cas_tab-20201115.csv', 'rpt_prd_cas_tab-20201101.csv', 'rpt_pth_egd_tab-20201215.csv', 'rpt_pth_egd_tab-20201201.csv', 'rpt_bsk_pin_tab.csv', 'rpt_buy_res_tab-20201027.csv', 'rpt_buy_res_tab-20201026.csv', 'rpt_pth_egd_tab-20201214.csv', 'rpt_con_vis_tab.csv', 'rpt_prd_cas_tab-20201114.csv', 'rpt_prd_cas_tab-20201128.csv', 'rpt_prd_cas_tab-20201102.csv', 'rpt_prd_cas_tab-20201116.csv', 'rpt_pth_egd_tab-20201202.csv', 'rpt_buy_res_tab-20201030.csv', 'rpt_buy_res_tab-20201024.csv', 'rpt_pth_egd_tab-20201028.csv', 'rpt_pth_egd_tab-20201029.csv', 'rpt_buy_res_tab-20201025.csv', 'rpt_buy_res_tab-20201031.csv', 'rpt_sal_pmd_tab.csv', 'rpt_pth_egd_tab-20201203.csv', 'rpt_con_uni_tab.csv', 'rpt_prd_cas_tab-20201117.csv', 'rpt_prd_cas_tab-20201103.csv', 'rpt_pth_ufl_tab.csv']\n"
     ]
    }
   ],
   "source": [
    "for path, dirs, files in os.walk('./{}'.format(down_path)):\n",
    "    print(files)\n",
    "    break\n",
    "    \n",
    "files = ['./{}/{}'.format(down_path,file) for file in files if file.startswith('rpt_buy_res_tab-')]"
   ]
  },
  {
   "cell_type": "code",
   "execution_count": 21,
   "metadata": {
    "ExecuteTime": {
     "end_time": "2020-12-16T12:30:27.889057Z",
     "start_time": "2020-12-16T12:30:27.656064Z"
    },
    "scrolled": true
   },
   "outputs": [],
   "source": [
    "tmp_li = []\n",
    "for file in files: \n",
    "    tmp= pd.read_csv(file).drop(columns=['재구매율','재구매율.1'])\n",
    "    tmp.columns = ['상품명','처음구매건수','재구매건수','처음구매액','재구매액','date','hour']\n",
    "    try:\n",
    "        tmp['처음구매액'] = tmp['처음구매액'].map(lambda x: x.replace(',','') if type(x)==str else x).astype(int)\n",
    "    except Exception as e:\n",
    "        print(e)\n",
    "        pass\n",
    "    try:\n",
    "        tmp['재구매액'] = tmp['재구매액'].map(lambda x: x.replace(',','') if type(x)==str else x).astype(int)\n",
    "    except Exception as e:\n",
    "        print(e)\n",
    "        pass\n",
    "\n",
    "    tmp_li.append(tmp)\n",
    "    \n",
    "tmp = pd.concat(tmp_li).reset_index(drop=True)\n",
    "tmp['hour'] = tmp['hour'].str.replace('시','').astype(int)\n",
    "tmp = tmp.sort_values(['date', 'hour'], ascending=[True, True])\n",
    "tmp.to_csv('./{}/hour_product.csv'.format(merge_path),index=False)"
   ]
  },
  {
   "cell_type": "code",
   "execution_count": 23,
   "metadata": {
    "ExecuteTime": {
     "end_time": "2020-12-16T12:30:29.013504Z",
     "start_time": "2020-12-16T12:30:27.903353Z"
    }
   },
   "outputs": [],
   "source": [
    "sql = \"INSERT INTO `hour_product`({}) VALUES ({});\".format(','.join(tmp.columns), \n",
    "                                                             ','.join(['%s']*len(tmp.columns)))\n",
    "\n",
    "data = [list(v) for v in tmp.values]\n",
    "cursor.executemany(sql, data)\n",
    "cafe24_db.commit()"
   ]
  },
  {
   "cell_type": "code",
   "execution_count": null,
   "metadata": {},
   "outputs": [],
   "source": []
  },
  {
   "cell_type": "markdown",
   "metadata": {},
   "source": [
    "# 품목별 노출수, 장바구니 담김수, 포기수 매출액"
   ]
  },
  {
   "cell_type": "code",
   "execution_count": 24,
   "metadata": {
    "ExecuteTime": {
     "end_time": "2020-12-16T12:30:29.118852Z",
     "start_time": "2020-12-16T12:30:29.016515Z"
    },
    "scrolled": true
   },
   "outputs": [],
   "source": [
    "a = pd.read_csv('./{}/rpt_bsk_pin_tab.csv'.format(down_path))\n",
    "a = a.drop(columns=['담긴수:노출수', '담김율'])\n",
    "if a['노출수'].dtype.name != 'int64':\n",
    "    a['노출수'] = a['노출수'].map(lambda x: x.replace(',','') if type(x)==str else x).astype(int)\n",
    "if a['담긴수'].dtype.name != 'int64':\n",
    "    a['담긴수'] = a['담긴수'].map(lambda x: x.replace(',','') if type(x)==str else x).astype(int)\n",
    "\n",
    "b = pd.read_csv('./{}/rpt_bsk_out_tab.csv'.format(down_path))\n",
    "b = b.drop(columns=['담긴수','포기율','담긴수:포기수'])\n",
    "if b['포기수'].dtype.name != 'int64':\n",
    "    b['포기수'] = b['포기수'].map(lambda x: x.replace(',','') if type(x)==str else x).astype(int)\n",
    "     \n",
    "        \n",
    "c = pd.read_csv('./{}/rpt_prd_sal_tab.csv'.format(down_path))\n",
    "c = c.drop(columns=['담긴수','노출수', '판매율','담김/노출','판매/노출'])\n",
    "c['상품명'] = c['상품명'].map(lambda x: x.replace('\\n',''))\n",
    "c['판매금액'] =c['판매금액'].map(lambda x: x.replace(',','') if type(x)==str else x).astype(int)\n",
    "\n",
    "tmp = pd.merge(a, c, on=['상품명','date'], how='outer')\n",
    "tmp = tmp.merge(b,on=['상품명','date'], how='outer')\n",
    "tmp = tmp.fillna(0)\n",
    "tmp = tmp.sort_values(['date'], ascending=[False])\n",
    "tmp.to_csv('./{}/day_product.csv'.format(merge_path),index=False)"
   ]
  },
  {
   "cell_type": "code",
   "execution_count": 26,
   "metadata": {
    "ExecuteTime": {
     "end_time": "2020-12-16T12:30:31.551041Z",
     "start_time": "2020-12-16T12:30:29.134445Z"
    },
    "scrolled": true
   },
   "outputs": [],
   "source": [
    "sql = \"INSERT INTO `day_product`({}) VALUES ({});\".format(','.join(tmp.columns), \n",
    "                                                             ','.join(['%s']*len(tmp.columns)))\n",
    "\n",
    "data = [list(v) for v in tmp.values]\n",
    "cursor.executemany(sql, data)\n",
    "cafe24_db.commit()"
   ]
  },
  {
   "cell_type": "code",
   "execution_count": null,
   "metadata": {},
   "outputs": [],
   "source": []
  },
  {
   "cell_type": "markdown",
   "metadata": {},
   "source": [
    "# 카테고리별 판매금액과 페이지뷰 ()"
   ]
  },
  {
   "cell_type": "code",
   "execution_count": 13,
   "metadata": {
    "ExecuteTime": {
     "end_time": "2020-12-16T12:33:56.143303Z",
     "start_time": "2020-12-16T12:33:56.133544Z"
    }
   },
   "outputs": [],
   "source": [
    "a = pd.read_csv('./{}/rpt_prd_cas_tab.csv'.format(down_path))\n",
    "a['상품군명(카테고리번호)'] = a['상품군명(카테고리번호)'].map(lambda x: x.replace('\\n',''))\n",
    "a['카테고리번호'] = a['상품군명(카테고리번호)'].map(lambda x: x.split(' (')[-1])\n",
    "a['카테고리번호'] = a['카테고리번호'].map(lambda x: x.replace('cate_no=', '').replace(')',''))\n",
    "a['카테고리명'] = a['상품군명(카테고리번호)'].map(lambda x: x.split(' (')[0])\n",
    "\n",
    "b = pd.read_csv('./{}/rpt_pag_fad_tab.csv'.format(down_path))\n",
    "b['카테고리명'] = b['카테고리명'].map(lambda x: x.replace('\\n',''))\n",
    "b['페이지뷰'] = b['페이지뷰'].map(lambda x: x.replace(',','') if type(x)==str else x).astype(int)"
   ]
  },
  {
   "cell_type": "code",
   "execution_count": 15,
   "metadata": {
    "ExecuteTime": {
     "end_time": "2020-12-16T12:33:56.833643Z",
     "start_time": "2020-12-16T12:33:56.812953Z"
    },
    "scrolled": true
   },
   "outputs": [],
   "source": [
    "cate_no_li = [118, 119, 122, 123, 139, 140, 144, 145]\n",
    "\n",
    "tmp = a.merge(b, on=['카테고리명','date'], how='left')\n",
    "tmp = tmp[tmp['카테고리번호']!='']\n",
    "\n",
    "tmp = tmp.drop(columns=['상품리스트','판매율','비율','처음접속당PV','노출수', '상품군명(카테고리번호)']).fillna(0)\n",
    "tmp['카테고리번호'] = tmp['카테고리번호'].astype(int)\n",
    "tmp = tmp[tmp['카테고리번호'].isin(cate_no_li)]\n",
    "tmp['판매금액'] = tmp['판매금액'].map(lambda x: x.replace(',','') if type(x)==str else x).astype(int)\n",
    "tmp['처음접속수'] = tmp['처음접속수'].map(lambda x: x.replace(',','') if type(x)==str else x).astype(int)\n",
    "tmp['담긴수'] = tmp['담긴수'].map(lambda x: x.replace(',','') if type(x)==str else x).astype(int)\n",
    "\n",
    "tmp = tmp.reset_index(drop=True)\n",
    "tmp.to_csv('./{}/day_category.csv'.format(merge_path),index=False)"
   ]
  },
  {
   "cell_type": "code",
   "execution_count": 17,
   "metadata": {
    "ExecuteTime": {
     "end_time": "2020-12-16T12:33:57.783762Z",
     "start_time": "2020-12-16T12:33:57.489874Z"
    },
    "scrolled": true
   },
   "outputs": [],
   "source": [
    "sql = \"INSERT INTO `day_category`({}) VALUES ({});\".format(','.join(tmp.columns), \n",
    "                                                             ','.join(['%s']*len(tmp.columns)))\n",
    "\n",
    "data = [list(v) for v in tmp.values]\n",
    "cursor.executemany(sql, data)\n",
    "cafe24_db.commit()"
   ]
  },
  {
   "cell_type": "code",
   "execution_count": null,
   "metadata": {},
   "outputs": [],
   "source": []
  },
  {
   "cell_type": "code",
   "execution_count": null,
   "metadata": {},
   "outputs": [],
   "source": []
  },
  {
   "cell_type": "markdown",
   "metadata": {},
   "source": [
    "# 상품 카테고리별 판매건수 판매금액"
   ]
  },
  {
   "cell_type": "code",
   "execution_count": 32,
   "metadata": {
    "ExecuteTime": {
     "end_time": "2020-12-16T12:30:33.355831Z",
     "start_time": "2020-12-16T12:30:33.351974Z"
    },
    "scrolled": true
   },
   "outputs": [
    {
     "name": "stdout",
     "output_type": "stream",
     "text": [
      "['rpt_prd_cas_tab-20201126.csv', 'rpt_buy_res_tab-20201202.csv', 'rpt_buy_res_tab-20201028.csv', 'rpt_pth_egd_tab-20201024.csv', 'rpt_pth_egd_tab-20201030.csv', 'rpt_pth_egd_tab-20201031.csv', 'rpt_pth_egd_tab-20201025.csv', 'rpt_buy_res_tab-20201029.csv', 'rpt_buy_res_tab-20201203.csv', 'rpt_prd_cas_tab-20201127.csv', 'rpt_prd_cas_tab.csv', 'rpt_prd_cas_tab-20201125.csv', 'rpt_prd_cas_tab-20201119.csv', 'rpt_buy_res_tab-20201201.csv', 'rpt_buy_res_tab-20201215.csv', 'rpt_vis_nmb_tab.csv', 'rpt_pth_egd_tab-20201027.csv', 'rpt_pth_egd_tab-20201026.csv', 'rpt_rou_dth_tab.csv', 'rpt_buy_res_tab-20201214.csv', 'rpt_prd_cas_tab-20201118.csv', 'rpt_prd_cas_tab-20201124.csv', 'rpt_prd_cas_tab-20201130.csv', 'rpt_prd_cas_tab-20201108.csv', 'rpt_prd_cas_tab-20201120.csv', 'rpt_buy_res_tab-20201204.csv', 'rpt_buy_res_tab-20201210.csv', 'rpt_pth_egd_tab-20201208.csv', 'rpt_pth_egd_tab-20201023.csv', 'rpt_pth_egd_tab-20201209.csv', 'rpt_buy_res_tab-20201211.csv', 'rpt_buy_res_tab-20201205.csv', 'rpt_prd_cas_tab-20201121.csv', 'rpt_prd_cas_tab-20201109.csv', 'rpt_prd_cas_tab-20201123.csv', 'rpt_con_fir_tab.csv', 'rpt_buy_res_tab-20201213.csv', 'rpt_buy_res_tab-20201207.csv', 'rpt_pth_egd_tab.csv', 'rpt_cts_ise_tab.csv', 'rpt_vis_rec_tab.csv', 'day_product_option.csv', 'rpt_buy_res_tab-20201206.csv', 'rpt_buy_res_tab-20201212.csv', 'rpt_prd_cas_tab-20201122.csv', 'rpt_buy_res_tab-20201103.csv', 'rpt_con_pvi_tab.csv', 'rpt_buy_res_tab-20201117.csv', 'rpt_cts_pag_tab.csv', 'rpt_pth_egd_tab-20201127.csv', 'rpt_prd_cas_tab-20201031.csv', 'rpt_prd_cas_tab-20201025.csv', 'rpt_prd_cas_tab-20201024.csv', 'rpt_prd_cas_tab-20201030.csv', 'rpt_pth_egd_tab-20201126.csv', 'rpt_buy_res_tab-20201116.csv', 'rpt_buy_res_tab-20201102.csv', 'rpt_buy_res_tab-20201114.csv', 'rpt_buy_vis_tab.csv', 'rpt_buy_res_tab-20201128.csv', 'rpt_pth_egd_tab-20201118.csv', 'rpt_pth_egd_tab-20201124.csv', 'rpt_pth_egd_tab-20201130.csv', 'rpt_prd_cas_tab-20201026.csv', 'rpt_vis_con_tab.csv', 'rpt_pth_kdd_tab.csv', 'rpt_prd_cas_tab-20201027.csv', 'rpt_sal_stp_tab.csv', 'rpt_pth_egd_tab-20201125.csv', 'rpt_pth_egd_tab-20201119.csv', 'rpt_buy_res_tab-20201129.csv', 'rpt_buy_res_tab-20201101.csv', 'rpt_buy_res_tab-20201115.csv', 'rpt_buy_res_tab-20201111.csv', 'rpt_buy_res_tab-20201105.csv', 'rpt_pth_egd_tab-20201121.csv', 'rpt_pth_egd_tab-20201109.csv', 'rpt_prd_cas_tab-20201209.csv', 'rpt_prd_cas_tab-20201023.csv', 'rpt_prd_cas_tab-20201208.csv', 'rpt_pth_egd_tab-20201108.csv', 'rpt_pth_egd_tab-20201120.csv', 'rpt_buy_res_tab-20201104.csv', 'rpt_buy_res_tab-20201110.csv', 'rpt_buy_res_tab-20201106.csv', 'rpt_buy_res_tab-20201112.csv', 'rpt_pth_egd_tab-20201122.csv', 'rpt_buy_rec_tab.csv', 'rpt_pth_egd_tab-20201123.csv', 'rpt_buy_res_tab-20201113.csv', 'rpt_buy_res_tab-20201107.csv', 'rpt_cts_sit_tab.csv', 'rpt_buy_res_tab-20201122.csv', 'rpt_pth_egd_tab-20201112.csv', 'rpt_pth_egd_tab-20201106.csv', 'rpt_prd_cas_tab-20201212.csv', 'rpt_prd_cas_tab-20201206.csv', 'rpt_buy_res_tab.csv', 'rpt_prd_cas_tab-20201207.csv', 'rpt_prd_cas_tab-20201213.csv', 'rpt_pth_egd_tab-20201107.csv', 'rpt_buy_dur_tab.csv', 'rpt_pth_egd_tab-20201113.csv', 'rpt_buy_res_tab-20201123.csv', 'rpt_buy_res_tab-20201121.csv', 'rpt_buy_res_tab-20201109.csv', 'rpt_pth_egd_tab-20201105.csv', 'rpt_pth_egd_tab-20201111.csv', 'rpt_prd_cas_tab-20201205.csv', 'rpt_prd_cas_tab-20201211.csv', 'rpt_prd_cas_tab-20201210.csv', 'rpt_prd_cas_tab-20201204.csv', 'rpt_pth_egd_tab-20201110.csv', 'rpt_pth_egd_tab-20201104.csv', 'rpt_buy_res_tab-20201108.csv', 'rpt_buy_res_tab-20201120.csv', 'rpt_buy_res_tab-20201118.csv', 'rpt_buy_res_tab-20201130.csv', 'rpt_buy_res_tab-20201124.csv', 'rpt_pth_egd_tab-20201114.csv', 'rpt_pth_egd_tab-20201128.csv', 'rpt_bsk_out_tab.csv', 'rpt_prd_cas_tab-20201214.csv', 'rpt_prd_cas_tab-20201215.csv', 'rpt_prd_cas_tab-20201201.csv', 'rpt_pth_egd_tab-20201129.csv', 'rpt_pag_fad_tab.csv', 'rpt_pth_egd_tab-20201115.csv', 'rpt_pth_egd_tab-20201101.csv', 'rpt_buy_res_tab-20201125.csv', 'rpt_buy_res_tab-20201119.csv', 'rpt_buy_res_tab-20201127.csv', 'rpt_pth_egd_tab-20201117.csv', 'rpt_pth_egd_tab-20201103.csv', 'rpt_prd_cas_tab-20201203.csv', 'rpt_prd_cas_tab-20201029.csv', 'rpt_prd_cas_tab-20201028.csv', 'rpt_prd_cas_tab-20201202.csv', 'rpt_prd_sal_tab.csv', 'rpt_pth_egd_tab-20201102.csv', 'rpt_pth_egd_tab-20201116.csv', 'rpt_buy_res_tab-20201126.csv', 'rpt_prd_cas_tab-20201107.csv', 'rpt_prd_cas_tab-20201113.csv', 'rpt_pth_egd_tab-20201207.csv', 'rpt_pth_egd_tab-20201213.csv', 'rpt_pth_egd_tab-20201212.csv', 'rpt_pth_egd_tab-20201206.csv', 'rpt_prd_cas_tab-20201112.csv', 'rpt_prd_cas_tab-20201106.csv', 'rpt_prd_cas_tab-20201110.csv', 'rpt_prd_cas_tab-20201104.csv', 'rpt_buy_res_tab-20201208.csv', 'rpt_pth_egd_tab-20201210.csv', 'rpt_pth_egd_tab-20201204.csv', 'rpt_pth_dod_tab.csv', 'rpt_buy_res_tab-20201023.csv', 'rpt_pth_egd_tab-20201205.csv', 'rpt_pth_egd_tab-20201211.csv', 'rpt_buy_res_tab-20201209.csv', 'rpt_prd_cas_tab-20201105.csv', 'rpt_prd_cas_tab-20201111.csv', 'rpt_prd_cas_tab-20201129.csv', 'rpt_prd_cas_tab-20201115.csv', 'rpt_prd_cas_tab-20201101.csv', 'rpt_pth_egd_tab-20201215.csv', 'rpt_pth_egd_tab-20201201.csv', 'rpt_bsk_pin_tab.csv', 'rpt_buy_res_tab-20201027.csv', 'rpt_buy_res_tab-20201026.csv', 'rpt_pth_egd_tab-20201214.csv', 'rpt_con_vis_tab.csv', 'rpt_prd_cas_tab-20201114.csv', 'rpt_prd_cas_tab-20201128.csv', 'rpt_prd_cas_tab-20201102.csv', 'rpt_prd_cas_tab-20201116.csv', 'rpt_pth_egd_tab-20201202.csv', 'rpt_buy_res_tab-20201030.csv', 'rpt_buy_res_tab-20201024.csv', 'rpt_pth_egd_tab-20201028.csv', 'rpt_pth_egd_tab-20201029.csv', 'rpt_buy_res_tab-20201025.csv', 'rpt_buy_res_tab-20201031.csv', 'rpt_sal_pmd_tab.csv', 'rpt_pth_egd_tab-20201203.csv', 'rpt_con_uni_tab.csv', 'rpt_prd_cas_tab-20201117.csv', 'rpt_prd_cas_tab-20201103.csv', 'rpt_pth_ufl_tab.csv']\n"
     ]
    }
   ],
   "source": [
    "for path, dirs, files in os.walk('./{}'.format(down_path)):\n",
    "    print(files)\n",
    "    break\n",
    "files = ['./{}/{}'.format(down_path, file) for file in files if file.startswith('rpt_prd_cas_tab-')]"
   ]
  },
  {
   "cell_type": "code",
   "execution_count": 33,
   "metadata": {
    "ExecuteTime": {
     "end_time": "2020-12-16T12:30:36.632590Z",
     "start_time": "2020-12-16T12:30:36.305591Z"
    },
    "scrolled": true
   },
   "outputs": [],
   "source": [
    "tmp_li = []\n",
    "for file in files: \n",
    "    tmp= pd.read_csv(file).drop(columns=['판매율'])\n",
    "    tmp = tmp.rename(columns={'hour':'category'})\n",
    "    \n",
    "    tmp['판매금액'] = tmp['판매금액'].map(lambda x: x.replace(',','') if type(x)==str else x).astype(int)\n",
    "    \n",
    "    tmp = tmp[(tmp['category'] != '-') & tmp['category'].notna()]\n",
    "    tmp_li.append(tmp)\n",
    "    \n",
    "tmp = pd.concat(tmp_li).reset_index(drop=True)\n",
    "tmp['노출수'] = tmp['노출수'].map(lambda x: int(x.replace(',', '')) if type(x) == str else x )\n",
    "tmp['담긴수'] = tmp['담긴수'].map(lambda x: int(x.replace(',', '')) if type(x) == str else x )\n",
    "tmp = tmp.sort_values(['date'])\n",
    "tmp.to_csv('./{}/day_category_product.csv'.format(merge_path),index=False)"
   ]
  },
  {
   "cell_type": "code",
   "execution_count": 35,
   "metadata": {
    "ExecuteTime": {
     "end_time": "2020-12-16T12:30:39.058962Z",
     "start_time": "2020-12-16T12:30:37.872755Z"
    },
    "scrolled": true
   },
   "outputs": [],
   "source": [
    "sql = \"INSERT INTO `day_category_product`({}) VALUES ({});\".format(','.join(tmp.columns), \n",
    "                                                             ','.join(['%s']*len(tmp.columns)))\n",
    "\n",
    "data = [list(v) for v in tmp.values]\n",
    "cursor.executemany(sql, data)\n",
    "cafe24_db.commit()"
   ]
  },
  {
   "cell_type": "code",
   "execution_count": null,
   "metadata": {},
   "outputs": [],
   "source": []
  },
  {
   "cell_type": "code",
   "execution_count": null,
   "metadata": {},
   "outputs": [],
   "source": []
  },
  {
   "cell_type": "markdown",
   "metadata": {
    "ExecuteTime": {
     "end_time": "2020-12-16T12:30:40.315248Z",
     "start_time": "2020-12-16T12:30:40.293211Z"
    }
   },
   "source": [
    "# 접속 도메인 별 방문수와 매출액"
   ]
  },
  {
   "cell_type": "code",
   "execution_count": 37,
   "metadata": {
    "ExecuteTime": {
     "end_time": "2020-12-16T12:30:40.518201Z",
     "start_time": "2020-12-16T12:30:40.514681Z"
    }
   },
   "outputs": [],
   "source": [
    "bigsite = ['facebook','instagram','naver','daum','google', 'youtube','brunch','bing','yahoo','nate','telegram',\n",
    "           'mashupangels','zum','marieclairekorea','sparklabs','t.co','bookmark','baidu','instanttattoo.store','instant.tattoo',\n",
    "          'girlstyle', 'instanttattoo.myshopify.com', 'slack', 'mailchimp', 'lofficiel', 'wconcept', 'amorepacific']\n",
    " \n",
    "def checkdomain(x):\n",
    "    res = None\n",
    "    \n",
    "    for site in bigsite:\n",
    "        if site in x.lower():\n",
    "            res = site\n",
    "            break\n",
    "            \n",
    "    return res"
   ]
  },
  {
   "cell_type": "code",
   "execution_count": 38,
   "metadata": {
    "ExecuteTime": {
     "end_time": "2020-12-16T12:30:40.784234Z",
     "start_time": "2020-12-16T12:30:40.712955Z"
    },
    "scrolled": true
   },
   "outputs": [],
   "source": [
    "a = pd.read_csv('./{}/rpt_pth_ufl_tab.csv'.format(down_path))\n",
    "b = pd.read_csv('./{}/rpt_pth_dod_tab.csv'.format(down_path))\n",
    "a['상세URL'] = a['상세URL'].map(lambda x : x.replace('\\n',''))\n",
    "\n",
    "b['domain'] = b['방문도메인'].map(checkdomain)\n",
    "a['domain'] = a['상세URL'].map(checkdomain)\n",
    "\n",
    "a = a[a['domain'].notna()]\n",
    "b = b[b['domain'].notna()]\n",
    "\n",
    "#a = a.drop(columns=['방문비율'])\n",
    "a['방문수'] = a['방문수'].map(lambda x: x.replace(',','') if type(x)==str else x).astype(int)\n",
    "\n",
    "a = dropColumn(a, ['방문비율'])\n",
    "b = dropColumn(b, ['방문비율','구매율','방문당매출','구매당매출'] )\n",
    "b['방문수'] = b['방문수'].map(lambda x: x.replace(',','') if type(x)==str else x).astype(int)\n",
    "b['매출액'] = b['매출액'].map(lambda x: x.replace(',','') if type(x)==str else x).astype(int)\n",
    "\n",
    "a.to_csv('./{}/day_url.csv'.format(merge_path), index=False)\n",
    "b.to_csv('./{}/day_domain.csv'.format(merge_path),index=False)"
   ]
  },
  {
   "cell_type": "code",
   "execution_count": 40,
   "metadata": {
    "ExecuteTime": {
     "end_time": "2020-12-16T12:30:43.954268Z",
     "start_time": "2020-12-16T12:30:41.369777Z"
    }
   },
   "outputs": [],
   "source": [
    "tmp = a\n",
    "sql = \"INSERT INTO `day_url`({}) VALUES ({});\".format(','.join(tmp.columns), \n",
    "                                                             ','.join(['%s']*len(tmp.columns)))\n",
    "\n",
    "data = [list(v) for v in tmp.values]\n",
    "cursor.executemany(sql, data)\n",
    "cafe24_db.commit()\n",
    "\n",
    "tmp = b\n",
    "sql = \"INSERT INTO `day_domain`({}) VALUES ({});\".format(','.join(tmp.columns), \n",
    "                                                             ','.join(['%s']*len(tmp.columns)))\n",
    "\n",
    "data = [list(v) for v in tmp.values]\n",
    "cursor.executemany(sql, data)\n",
    "cafe24_db.commit()"
   ]
  },
  {
   "cell_type": "code",
   "execution_count": null,
   "metadata": {},
   "outputs": [],
   "source": []
  },
  {
   "cell_type": "code",
   "execution_count": null,
   "metadata": {},
   "outputs": [],
   "source": []
  },
  {
   "cell_type": "markdown",
   "metadata": {},
   "source": [
    "# 접속 도메인별 매출건수, 매출액, 방문건수"
   ]
  },
  {
   "cell_type": "code",
   "execution_count": 43,
   "metadata": {
    "ExecuteTime": {
     "end_time": "2020-12-16T12:30:44.364357Z",
     "start_time": "2020-12-16T12:30:44.356643Z"
    }
   },
   "outputs": [],
   "source": [
    "a = pd.read_csv('./{}/rpt_pth_egd_tab.csv'.format(down_path))\n",
    "a= a.drop(columns=['키워드','구매율','방문당매출','구매당매출'])\n",
    "a['매출액'] = a['매출액'].map(lambda x: x.replace(',','') if type(x)==str else x).astype(int)\n",
    "#a.to_csv('./merge_data/data_day_searchengine.csv',index=False)"
   ]
  },
  {
   "cell_type": "code",
   "execution_count": 44,
   "metadata": {
    "ExecuteTime": {
     "end_time": "2020-12-16T12:30:44.401694Z",
     "start_time": "2020-12-16T12:30:44.365739Z"
    }
   },
   "outputs": [],
   "source": [
    "b_li = []\n",
    "for v in ['방문수','구매건수','매출액']:\n",
    "    b = a.pivot_table(index=\"date\", columns='검색엔진',values=v, aggfunc='sum', fill_value=0)\n",
    "    b = b.reset_index()\n",
    "    b.columns.name = None\n",
    "\n",
    "    ncols = {}\n",
    "    for col in b.columns:\n",
    "        if col == 'date':\n",
    "            continue \n",
    "        ncol = '{}_{}'.format(col, v)\n",
    "        ncols[col] = ncol\n",
    "\n",
    "    b = b.rename(columns=ncols)\n",
    "    b_li.append(b)\n",
    "    \n",
    "b = pd.concat(b_li, axis=1)\n",
    "b = b.loc[:, ~b.columns.duplicated()]\n",
    "b = b[sorted(b.columns)]\n",
    "\n",
    "b.to_csv('./{}/day_search_engine.csv'.format(merge_path),index=False)"
   ]
  },
  {
   "cell_type": "code",
   "execution_count": 47,
   "metadata": {
    "ExecuteTime": {
     "end_time": "2020-12-16T12:30:44.425101Z",
     "start_time": "2020-12-16T12:30:44.416292Z"
    },
    "scrolled": true
   },
   "outputs": [],
   "source": [
    "usingc = set(b.columns).intersection(\n",
    "set(['date', \n",
    "       '구글(미국)_구매건수', '구글(미국)_매출액', '구글(미국)_방문수', '네이버_구매건수', '네이버_매출액', \n",
    "       '네이버_방문수', '다음_구매건수', '다음_매출액', '다음_방문수']) )\n",
    "\n",
    "tmp = b[usingc]\n",
    "\n",
    "for col in [\n",
    "       '구글(미국)_구매건수', '구글(미국)_매출액', '구글(미국)_방문수', '네이버_구매건수', '네이버_매출액',\n",
    "       '네이버_방문수', '다음_구매건수', '다음_매출액', '다음_방문수']:\n",
    "     \n",
    "    if col in tmp.columns :\n",
    "        tmp[col] =    tmp[col].map(lambda x: x.replace(',','') if type(x)==str else x).astype(int)"
   ]
  },
  {
   "cell_type": "code",
   "execution_count": 48,
   "metadata": {
    "ExecuteTime": {
     "end_time": "2020-12-16T12:30:44.600350Z",
     "start_time": "2020-12-16T12:30:44.426690Z"
    },
    "scrolled": true
   },
   "outputs": [],
   "source": [
    "sql = \"INSERT INTO `day_search_engine`({}) VALUES ({});\".format(','.join([\"`{}`\".format(col) for col in tmp.columns]), \n",
    "                                                             ','.join(['%s']*len(tmp.columns)))\n",
    "\n",
    "data = [list(v) for v in tmp.values]\n",
    "cursor.executemany(sql, data)\n",
    "cafe24_db.commit()"
   ]
  },
  {
   "cell_type": "code",
   "execution_count": null,
   "metadata": {},
   "outputs": [],
   "source": []
  },
  {
   "cell_type": "markdown",
   "metadata": {},
   "source": [
    "# 검색어별 매출"
   ]
  },
  {
   "cell_type": "code",
   "execution_count": 49,
   "metadata": {
    "ExecuteTime": {
     "end_time": "2020-12-16T12:30:44.784548Z",
     "start_time": "2020-12-16T12:30:44.603005Z"
    },
    "scrolled": true
   },
   "outputs": [],
   "source": [
    "for path, dirs, files in os.walk('./{}'.format(down_path)):\n",
    "    #print(files)\n",
    "    break\n",
    "files = ['./{}/{}'.format(down_path, file) for file in files if file.startswith('rpt_pth_egd_tab-')]\n",
    "\n",
    "tmp_li = []\n",
    "for file in files: \n",
    "    tmp= pd.read_csv(file).drop(columns=['구매율','방문당매출','구매당매출'])\n",
    "    \n",
    "    \n",
    "    tmp['매출액'] = tmp['매출액'].astype(str).map(lambda x: x.replace(',','') if type(x)==str else x).astype(int)\n",
    "    tmp_li.append(tmp)\n",
    "    \n",
    "tmp = pd.concat(tmp_li).reset_index(drop=True)\n",
    "tmp = tmp.sort_values('date')\n",
    "tmp['방문수'] = tmp['방문수'].map(lambda x: x.replace(',','') if type(x)==str else x).astype(int)\n",
    "tmp.to_csv('./{}/day_search_keyword.csv'.format(merge_path),index=False)"
   ]
  },
  {
   "cell_type": "code",
   "execution_count": 51,
   "metadata": {
    "ExecuteTime": {
     "end_time": "2020-12-16T12:30:45.154997Z",
     "start_time": "2020-12-16T12:30:44.939106Z"
    },
    "scrolled": true
   },
   "outputs": [],
   "source": [
    "sql = \"INSERT INTO `day_search_keyword`({}) VALUES ({});\".format(','.join(tmp.columns), \n",
    "                                                             ','.join(['%s']*len(tmp.columns)))\n",
    "\n",
    "data = [list(v) for v in tmp.values]\n",
    "cursor.executemany(sql, data)\n",
    "cafe24_db.commit()"
   ]
  },
  {
   "cell_type": "code",
   "execution_count": null,
   "metadata": {},
   "outputs": [],
   "source": []
  },
  {
   "cell_type": "markdown",
   "metadata": {},
   "source": [
    "# 재방문 기간"
   ]
  },
  {
   "cell_type": "code",
   "execution_count": 52,
   "metadata": {
    "ExecuteTime": {
     "end_time": "2020-12-16T12:30:45.664604Z",
     "start_time": "2020-12-16T12:30:45.606032Z"
    }
   },
   "outputs": [],
   "source": [
    "a = pd.read_csv('./{}/rpt_vis_rec_tab.csv'.format(down_path)).drop(columns=['비율(%)'])\n",
    "columns = a['재방문간격'].unique()\n",
    "a = a.pivot_table(index=['date'], columns=['재방문간격'], values='방문수', aggfunc='sum')\n",
    "a = a[columns]\n",
    "a = a.reset_index()\n",
    "for col in columns:\n",
    "    try:\n",
    "        a[col] = a[col].map(lambda x: x.replace(',','') if type(x)==str else x).astype(int)\n",
    "    except:\n",
    "        pass\n",
    "    \n",
    "a.columns.name = None\n",
    "a.to_csv('./{}/day_revisit_period.csv'.format(merge_path), index=False)"
   ]
  },
  {
   "cell_type": "code",
   "execution_count": 53,
   "metadata": {
    "ExecuteTime": {
     "end_time": "2020-12-16T12:30:46.038132Z",
     "start_time": "2020-12-16T12:30:45.848353Z"
    },
    "scrolled": true
   },
   "outputs": [],
   "source": [
    "tmp = a\n",
    "sql = \"INSERT INTO `day_revisit_period`({}) VALUES ({});\".format(','.join([\"`{}`\".format(col) for col in tmp.columns]), \n",
    "                                                             ','.join(['%s']*len(tmp.columns)))\n",
    "\n",
    "data = [list(v) for v in tmp.values]\n",
    "cursor.executemany(sql, data)\n",
    "cafe24_db.commit()"
   ]
  },
  {
   "cell_type": "code",
   "execution_count": null,
   "metadata": {},
   "outputs": [],
   "source": []
  },
  {
   "cell_type": "markdown",
   "metadata": {},
   "source": [
    "# 재방문 횟수"
   ]
  },
  {
   "cell_type": "code",
   "execution_count": 54,
   "metadata": {
    "ExecuteTime": {
     "end_time": "2020-12-16T12:30:46.379318Z",
     "start_time": "2020-12-16T12:30:46.322018Z"
    }
   },
   "outputs": [],
   "source": [
    "a = pd.read_csv('./{}/rpt_vis_con_tab.csv'.format(down_path)).drop(columns=['비율(%)'])\n",
    "columns = a['방문횟수'].unique()\n",
    "a = a.pivot_table(index=['date'], columns=['방문횟수'], values='IP수', aggfunc='sum')\n",
    "a = a[columns]\n",
    "a = a.reset_index()\n",
    "\n",
    "for col in columns:\n",
    "    try:\n",
    "        a[col] = a[col].map(lambda x: x.replace(',','') if type(x)==str else x).astype(int)\n",
    "    except:\n",
    "        pass\n",
    " \n",
    "    \n",
    "a.columns.name = None\n",
    "#a['date'] = pd.to_datetime(a['date'])\n",
    "a.to_csv('./{}/day_visit_count.csv'.format(merge_path), index=False)"
   ]
  },
  {
   "cell_type": "code",
   "execution_count": 56,
   "metadata": {
    "ExecuteTime": {
     "end_time": "2020-12-16T12:30:46.962639Z",
     "start_time": "2020-12-16T12:30:46.767739Z"
    },
    "scrolled": true
   },
   "outputs": [],
   "source": [
    "tmp = a\n",
    "sql = \"INSERT INTO `day_visit_count`({}) VALUES ({});\".format(','.join([\"`{}`\".format(col) for col in tmp.columns]), \n",
    "                                                             ','.join(['%s']*len(tmp.columns)))\n",
    "\n",
    "data = [list(v) for v in tmp.values]\n",
    "cursor.executemany(sql, data)\n",
    "cafe24_db.commit()"
   ]
  },
  {
   "cell_type": "code",
   "execution_count": null,
   "metadata": {},
   "outputs": [],
   "source": []
  },
  {
   "cell_type": "markdown",
   "metadata": {},
   "source": [
    "# 이동경로길이"
   ]
  },
  {
   "cell_type": "code",
   "execution_count": 57,
   "metadata": {
    "ExecuteTime": {
     "end_time": "2020-12-16T12:30:47.300810Z",
     "start_time": "2020-12-16T12:30:47.250852Z"
    }
   },
   "outputs": [],
   "source": [
    "a = pd.read_csv('./{}/rpt_rou_dth_tab.csv'.format(down_path)).drop(columns=['비율'])\n",
    "columns = a['이동경로깊이'].unique()\n",
    "a = a.pivot_table(index=['date'], columns=['이동경로깊이'], values='방문수', aggfunc='sum')\n",
    "a = a[columns]\n",
    "a = a.reset_index()\n",
    "\n",
    "for col in columns:\n",
    "    try:\n",
    "        a[col] = a[col].map(lambda x: x.replace(',','') if type(x)==str else x).astype(int)\n",
    "    except:\n",
    "        pass\n",
    " \n",
    "    \n",
    "a.columns.name = None\n",
    "#a['date'] = pd.to_datetime(a['date'])\n",
    "a.to_csv('./{}/day_page_depth.csv'.format(merge_path), index=False)"
   ]
  },
  {
   "cell_type": "code",
   "execution_count": 58,
   "metadata": {
    "ExecuteTime": {
     "end_time": "2020-12-16T12:30:48.801275Z",
     "start_time": "2020-12-16T12:30:47.496637Z"
    }
   },
   "outputs": [],
   "source": [
    "tmp = a\n",
    "sql = \"INSERT INTO `day_page_depth`({}) VALUES ({});\".format(','.join([\"`{}`\".format(col) for col in tmp.columns]), \n",
    "                                                             ','.join(['%s']*len(tmp.columns)))\n",
    "\n",
    "data = [list(v) for v in tmp.values]\n",
    "cursor.executemany(sql, data)\n",
    "cafe24_db.commit()"
   ]
  },
  {
   "cell_type": "code",
   "execution_count": null,
   "metadata": {},
   "outputs": [],
   "source": []
  },
  {
   "cell_type": "markdown",
   "metadata": {},
   "source": [
    "# 구매단계"
   ]
  },
  {
   "cell_type": "code",
   "execution_count": null,
   "metadata": {},
   "outputs": [],
   "source": [
    "a = pd.read_csv('./{}/rpt_sal_stp_tab.csv'.format(down_path)).drop(columns=['전환율(%)', '이탈횟수','이탈율(%)'])\n",
    "columns = a['구매단계'].unique()\n",
    "a = a.pivot_table(index=['date'], columns=['구매단계'], values='접속횟수(회)', aggfunc='sum')\n",
    "a = a[columns]\n",
    "a = a.reset_index()\n",
    "for col in columns:\n",
    "    try:\n",
    "        a[col] = a[col].map(lambda x: x.replace(',','') if type(x)==str else x).astype(int)\n",
    "    except:\n",
    "        pass\n",
    " \n",
    "    \n",
    "a.columns.name = None\n",
    "#a['date'] = pd.to_datetime(a['date'])\n",
    "a.to_csv('./{}/day_pay_step.csv'.format(merge_path), index=False)"
   ]
  },
  {
   "cell_type": "code",
   "execution_count": 60,
   "metadata": {
    "ExecuteTime": {
     "end_time": "2020-12-16T12:30:49.037166Z",
     "start_time": "2020-12-16T12:30:48.854137Z"
    }
   },
   "outputs": [],
   "source": [
    "tmp = a\n",
    "sql = \"INSERT INTO `day_pay_step`({}) VALUES ({});\".format(','.join([\"`{}`\".format(col) for col in tmp.columns]), \n",
    "                                                             ','.join(['%s']*len(tmp.columns)))\n",
    "\n",
    "data = [list(v) for v in tmp.values]\n",
    "cursor.executemany(sql, data)\n",
    "cafe24_db.commit()"
   ]
  },
  {
   "cell_type": "code",
   "execution_count": null,
   "metadata": {},
   "outputs": [],
   "source": []
  },
  {
   "cell_type": "markdown",
   "metadata": {},
   "source": [
    "# 신규 가입자"
   ]
  },
  {
   "cell_type": "code",
   "execution_count": 61,
   "metadata": {
    "ExecuteTime": {
     "end_time": "2020-12-16T12:30:49.048053Z",
     "start_time": "2020-12-16T12:30:49.040048Z"
    }
   },
   "outputs": [],
   "source": [
    "a = pd.read_csv('./{}/rpt_vis_nmb_tab.csv'.format(down_path)).drop(columns=['비율','일자'])\n",
    "#a['date'] = pd.to_datetime(a['date'])\n",
    "a['회원수'] = a['회원수'].map(lambda x: x.replace(',','') if type(x)==str else x).astype(int)\n",
    "a.to_csv('./{}/day_new_member.csv'.format(merge_path), index=False)"
   ]
  },
  {
   "cell_type": "code",
   "execution_count": 62,
   "metadata": {
    "ExecuteTime": {
     "end_time": "2020-12-16T12:30:49.369472Z",
     "start_time": "2020-12-16T12:30:49.180400Z"
    }
   },
   "outputs": [],
   "source": [
    "tmp = a\n",
    "sql = \"INSERT INTO `day_new_member`({}) VALUES ({});\".format(','.join([\"`{}`\".format(col) for col in tmp.columns]), \n",
    "                                                             ','.join(['%s']*len(tmp.columns)))\n",
    "\n",
    "data = [list(v) for v in tmp.values]\n",
    "cursor.executemany(sql, data)\n",
    "cafe24_db.commit()"
   ]
  },
  {
   "cell_type": "code",
   "execution_count": 63,
   "metadata": {
    "ExecuteTime": {
     "end_time": "2020-12-16T12:30:49.660990Z",
     "start_time": "2020-12-16T12:30:49.658952Z"
    }
   },
   "outputs": [],
   "source": [
    "cursor.close()\n",
    "cafe24_db.close()"
   ]
  }
 ],
 "metadata": {
  "hide_input": false,
  "kernelspec": {
   "display_name": "Python 3",
   "language": "python",
   "name": "python3"
  },
  "language_info": {
   "codemirror_mode": {
    "name": "ipython",
    "version": 3
   },
   "file_extension": ".py",
   "mimetype": "text/x-python",
   "name": "python",
   "nbconvert_exporter": "python",
   "pygments_lexer": "ipython3",
   "version": "3.7.4"
  },
  "toc": {
   "base_numbering": 1,
   "nav_menu": {},
   "number_sections": true,
   "sideBar": true,
   "skip_h1_title": false,
   "title_cell": "Table of Contents",
   "title_sidebar": "Contents",
   "toc_cell": false,
   "toc_position": {},
   "toc_section_display": true,
   "toc_window_display": false
  }
 },
 "nbformat": 4,
 "nbformat_minor": 2
}

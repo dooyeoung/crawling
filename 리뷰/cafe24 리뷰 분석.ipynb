{
 "cells": [
  {
   "cell_type": "code",
   "execution_count": null,
   "metadata": {},
   "outputs": [],
   "source": [
    "import itertools\n",
    "import re\n",
    "import json\n",
    "\n",
    "from konlpy.tag import Kkma\n",
    "from konlpy.tag import Mecab\n",
    "from gensim.models import Phrases\n",
    "from collections import Counter"
   ]
  },
  {
   "cell_type": "code",
   "execution_count": null,
   "metadata": {},
   "outputs": [],
   "source": [
    "t = Mecab()\n",
    "rdf= pd.read_excel('rdf.xlsx')\n",
    "rdf['photo'] = rdf['photo'].map(lambda x: eval(x))"
   ]
  },
  {
   "cell_type": "markdown",
   "metadata": {},
   "source": [
    "# 데이터 전처리"
   ]
  },
  {
   "cell_type": "code",
   "execution_count": null,
   "metadata": {},
   "outputs": [],
   "source": [
    "def preprocessing(txt):\n",
    "    txt = txt.replace('\\n내용\\n', '')\n",
    "    txt = txt.replace('\\n', ' ')\n",
    "    txt = txt.replace('\\r', ' ')\n",
    "    txt = re.sub('\\([0-9]{4}-[0-9]{2}-[0-9]{2}.*구매평\\)', '', txt)\n",
    "    txt = txt.strip()\n",
    "    return txt\n",
    "\n",
    "rdf['text'] = rdf['text'].map(preprocessing)"
   ]
  },
  {
   "cell_type": "markdown",
   "metadata": {},
   "source": [
    "# mecab을 사용하여 빈도가 높은 표현 확인"
   ]
  },
  {
   "cell_type": "code",
   "execution_count": null,
   "metadata": {},
   "outputs": [],
   "source": [
    "\n",
    "documents = []\n",
    "for txt in rdf['text'].values:\n",
    "    pos = t.pos(txt)\n",
    "    sentence = ' '.join(['{}_{}'.format(w, p) for w, p in pos])\n",
    "    documents.append(sentence)\n",
    "    \n",
    "    \n",
    "\n",
    "sentence_stream = [doc.split(\" \") for doc in documents]\n",
    "\n",
    "# bigram > trigram\n",
    "bigram = Phrases(sentence_stream, min_count=1, delimiter=b' ')\n",
    "trigram = Phrases(bigram[sentence_stream], min_count=1, delimiter=b' ')\n",
    "\n",
    "b_li = []\n",
    "t_li = []\n",
    "for sent in sentence_stream:\n",
    "    bigrams_ = [b for b in bigram[sent] if b.count(' ') == 1]\n",
    "    trigrams_ = [t for t in trigram[bigram[sent]] if t.count(' ') == 2]\n",
    "    \n",
    "    b_li.append(bigrams_)\n",
    "    t_li.append(trigrams_)\n",
    "\n",
    "    \n",
    "b_li = Counter(itertools.chain.from_iterable(b_li))\n",
    "t_li = Counter(itertools.chain.from_iterable(t_li))\n",
    "\n",
    "# 많이 사용된 표현 추출\n",
    "sorted(b_li.items(), key=lambda x: x[1], reverse=True)\n",
    "sorted(t_li.items(), key=lambda x: x[1], reverse=True)"
   ]
  },
  {
   "cell_type": "code",
   "execution_count": null,
   "metadata": {},
   "outputs": [],
   "source": []
  },
  {
   "cell_type": "code",
   "execution_count": null,
   "metadata": {},
   "outputs": [],
   "source": []
  },
  {
   "cell_type": "code",
   "execution_count": null,
   "metadata": {},
   "outputs": [],
   "source": []
  },
  {
   "cell_type": "code",
   "execution_count": null,
   "metadata": {},
   "outputs": [],
   "source": []
  },
  {
   "cell_type": "code",
   "execution_count": null,
   "metadata": {},
   "outputs": [],
   "source": []
  },
  {
   "cell_type": "code",
   "execution_count": null,
   "metadata": {},
   "outputs": [],
   "source": []
  },
  {
   "cell_type": "markdown",
   "metadata": {},
   "source": [
    "# 상품 정보가 있는 리뷰"
   ]
  },
  {
   "cell_type": "code",
   "execution_count": null,
   "metadata": {},
   "outputs": [],
   "source": [
    "hasprd = rdf[rdf['name'].notna()] \n",
    "unique_names = hasprd['name'].unique()"
   ]
  },
  {
   "cell_type": "code",
   "execution_count": null,
   "metadata": {},
   "outputs": [],
   "source": [
    "res_li = [ ]\n",
    "for name in unique_names:\n",
    "    sub = hasprd[hasprd['name'] == name]\n",
    "    sub['date'] = sub['date'].dt.strftime(\"%Y-%m-%d\") \n",
    "    \n",
    "    nsub = sub[sub['writer'] == '네이****']\n",
    "    msub = sub[sub['writer'] != '네이****']\n",
    "    \n",
    "    psub = sub[sub['photo'].map(lambda x: True if len(x) > 0 else False )]\n",
    "\n",
    "    rating =sub['rating'].value_counts().sort_index(ascending=False).to_dict()\n",
    "    rating_avg = round(sub['rating'].mean(), 2)\n",
    "    \n",
    "    \n",
    "    rating_datas = {1:[], 2:[], 3:[], 4:[], 5:[]}\n",
    "    for score in range(1, 6):\n",
    "        rsub = sub[sub['rating']==score]\n",
    "        rating_datas[score] = list(rsub.T.to_dict().values())\n",
    "\n",
    "    res = {'type':\"single\", 'name' : name, 't_count': len(sub), 'n_count':len(nsub), 'o_count':len(msub), 'p_count':len(psub),\n",
    "           'rating_avg':rating_avg, 'rating_data':rating_datas,\n",
    "           'photo_review':list(psub.T.to_dict().values(), ) }\n",
    "    \n",
    "    res_li.append(res) "
   ]
  },
  {
   "cell_type": "code",
   "execution_count": null,
   "metadata": {},
   "outputs": [],
   "source": []
  },
  {
   "cell_type": "markdown",
   "metadata": {},
   "source": [
    "## 단품 상품 리뷰만 필터링"
   ]
  },
  {
   "cell_type": "code",
   "execution_count": null,
   "metadata": {},
   "outputs": [],
   "source": [
    "singleprd= list(filter(lambda x: '세트' not in x \n",
    "            and 'off' not in x \n",
    "            and '에디션' not in x\n",
    "            and '스페셜' not in x\n",
    "            and '콜렉션' not in x\n",
    "            and '컬렉션' not in x\n",
    "            , unique_names))\n",
    "\n",
    "res_li = [ ]\n",
    "for name in singleprd:\n",
    "    sub = hasprd[hasprd['name'] == name]\n",
    "    sub['date'] = sub['date'].dt.strftime(\"%Y-%m-%d\") \n",
    "    \n",
    "    nsub = sub[sub['writer'] == '네이****']\n",
    "    msub = sub[sub['writer'] != '네이****']\n",
    "    \n",
    "    psub = sub[sub['photo'].map(lambda x: True if len(x) > 0 else False )]\n",
    "\n",
    "    rating =sub['rating'].value_counts().sort_index(ascending=False).to_dict()\n",
    "    rating_avg = round(sub['rating'].mean(), 2)\n",
    "    \n",
    "    \n",
    "    rating_datas = {1:[], 2:[], 3:[], 4:[], 5:[]}\n",
    "    for score in range(1, 6):\n",
    "        rsub = sub[sub['rating']==score]\n",
    "        rating_datas[score] = list(rsub.T.to_dict().values())\n",
    "\n",
    "    res = {'type':\"single\", 'name' : name, 't_count': len(sub), 'n_count':len(nsub), 'o_count':len(msub), 'p_count':len(psub),\n",
    "           'rating_avg':rating_avg, 'rating_data':rating_datas,\n",
    "           'photo_review':list(psub.T.to_dict().values(), ) }\n",
    "    \n",
    "    res_li.append(res) "
   ]
  },
  {
   "cell_type": "code",
   "execution_count": null,
   "metadata": {},
   "outputs": [],
   "source": [
    "with open('review.js', 'wt') as f:\n",
    "    f.write('var datas = ')\n",
    "    dt = json.dumps(res_li, ensure_ascii=False, indent=2)\n",
    "    f.write(dt)"
   ]
  },
  {
   "cell_type": "code",
   "execution_count": null,
   "metadata": {},
   "outputs": [],
   "source": []
  },
  {
   "cell_type": "markdown",
   "metadata": {},
   "source": [
    "## 세트상품 리뷰만 필터링"
   ]
  },
  {
   "cell_type": "code",
   "execution_count": null,
   "metadata": {},
   "outputs": [],
   "source": [
    "setprd = list(filter(lambda x: '세트' in x \n",
    "            or 'off' in x \n",
    "            or '에디션' in x \n",
    "            or '스페셜' in x \n",
    "            or '콜렉션' in x \n",
    "            or '컬렉션' in x \n",
    "            , unique_names))\n",
    "\n",
    "\n",
    "for name in setprd:\n",
    "    sub = hasprd[hasprd['name'] == name]\n",
    "    sub['date'] = sub['date'].dt.strftime(\"%Y-%m-%d\") \n",
    "    \n",
    "    nsub = sub[sub['writer'] == '네이****']\n",
    "    msub = sub[sub['writer'] != '네이****']\n",
    "    \n",
    "    psub = sub[sub['photo'].map(lambda x: True if len(x) > 0 else False )]\n",
    "\n",
    "    rating =sub['rating'].value_counts().sort_index(ascending=False).to_dict()\n",
    "    rating_avg = round(sub['rating'].mean(), 2)\n",
    "    \n",
    "    \n",
    "    rating_datas = {1:[], 2:[], 3:[], 4:[], 5:[]}\n",
    "    for score in range(1, 6):\n",
    "        rsub = sub[sub['rating']==score]\n",
    "        rating_datas[score] = list(rsub.T.to_dict().values())\n",
    "\n",
    "    res = {'type':\"set\", 'name' : name, 't_count': len(sub), 'n_count':len(nsub), 'o_count':len(msub), 'p_count':len(psub),\n",
    "           'rating_avg':rating_avg, 'rating_data':rating_datas,\n",
    "           'photo_review':list(psub.T.to_dict().values(), ) }\n",
    "    \n",
    "    res_li.append(res)\n",
    "len(res_li)"
   ]
  },
  {
   "cell_type": "code",
   "execution_count": null,
   "metadata": {},
   "outputs": [],
   "source": [
    "with open('review.js', 'wt') as f:\n",
    "    f.write('var datas = ')\n",
    "    dt = json.dumps(res_li, ensure_ascii=False, indent=2)\n",
    "    f.write(dt)"
   ]
  },
  {
   "cell_type": "code",
   "execution_count": null,
   "metadata": {},
   "outputs": [],
   "source": []
  },
  {
   "cell_type": "code",
   "execution_count": null,
   "metadata": {},
   "outputs": [],
   "source": []
  },
  {
   "cell_type": "code",
   "execution_count": null,
   "metadata": {},
   "outputs": [],
   "source": []
  }
 ],
 "metadata": {
  "hide_input": false,
  "kernelspec": {
   "display_name": "Python 3",
   "language": "python",
   "name": "python3"
  },
  "language_info": {
   "codemirror_mode": {
    "name": "ipython",
    "version": 3
   },
   "file_extension": ".py",
   "mimetype": "text/x-python",
   "name": "python",
   "nbconvert_exporter": "python",
   "pygments_lexer": "ipython3",
   "version": "3.7.4"
  },
  "toc": {
   "base_numbering": 1,
   "nav_menu": {},
   "number_sections": true,
   "sideBar": true,
   "skip_h1_title": false,
   "title_cell": "Table of Contents",
   "title_sidebar": "Contents",
   "toc_cell": false,
   "toc_position": {},
   "toc_section_display": true,
   "toc_window_display": false
  }
 },
 "nbformat": 4,
 "nbformat_minor": 2
}

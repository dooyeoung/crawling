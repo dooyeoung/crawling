{
 "cells": [
  {
   "cell_type": "code",
   "execution_count": null,
   "metadata": {
    "ExecuteTime": {
     "end_time": "2020-12-21T01:47:32.274307Z",
     "start_time": "2020-12-21T01:47:32.119081Z"
    }
   },
   "outputs": [],
   "source": [
    "import requests\n",
    "from bs4 import BeautifulSoup\n",
    "import time\n",
    "from tqdm import tqdm_notebook"
   ]
  },
  {
   "cell_type": "markdown",
   "metadata": {
    "ExecuteTime": {
     "end_time": "2020-12-21T01:55:40.240371Z",
     "start_time": "2020-12-21T01:55:40.238432Z"
    }
   },
   "source": [
    "# 리뷰의 본문 링크 수집"
   ]
  },
  {
   "cell_type": "code",
   "execution_count": null,
   "metadata": {
    "ExecuteTime": {
     "end_time": "2020-12-21T01:55:12.296920Z",
     "start_time": "2020-12-21T01:55:12.294202Z"
    }
   },
   "outputs": [],
   "source": [
    "mallurl = 'https://instanttattoo.co.kr'"
   ]
  },
  {
   "cell_type": "code",
   "execution_count": null,
   "metadata": {
    "ExecuteTime": {
     "end_time": "2020-12-21T01:54:57.822699Z",
     "start_time": "2020-12-21T01:54:56.138688Z"
    },
    "scrolled": false
   },
   "outputs": [],
   "source": [
    "# 카페24 리뷰 게시판에서 페이지번호를 변경하면서 게시물의 링크 수집\n",
    "\n",
    "headers = {'User-Agent': 'Mozilla/5.0 (Macintosh; Intel Mac OS X 10_11_5) AppleWebKit/537.36 (KHTML, like Gecko) Chrome/50.0.2661.102 Safari/537.36'}\n",
    "url = mallurl+'/board/product/list.html?board_no=4&product_category_depth1=&product_category_depth2=&product_category_depth3=&product_category_depth4=&page={}'\n",
    "\n",
    "src_li = []\n",
    "for page in tqdm_notebook(range(1, 4)):\n",
    "    \n",
    "    result = requests.get(url.format(page), headers=headers)\n",
    "    soup = BeautifulSoup(result.text, 'lxml')\n",
    "    tr_li = soup.select('tr.xans-record-')\n",
    "    for tr in tr_li:\n",
    "        alt_li = [node['alt'] for node in tr.select('img')]\n",
    "        \n",
    "        src = tr.select('.subject a:nth-of-type(2)')\n",
    "        if len(src) > 0:\n",
    "            src = src[0]['href']\n",
    "    \n",
    "        src_li.append([src, alt_li])  \n",
    "    time.sleep(0.5)\n",
    "    \n",
    "src_df = pd.DataFrame(src_li, columns=['src', 'alt'])\n",
    "src_df.to_csv('src_df.csv', index=False)"
   ]
  },
  {
   "cell_type": "markdown",
   "metadata": {},
   "source": [
    "# 리뷰의 본문 내용 수집"
   ]
  },
  {
   "cell_type": "code",
   "execution_count": null,
   "metadata": {
    "ExecuteTime": {
     "end_time": "2020-12-21T01:55:28.468832Z",
     "start_time": "2020-12-21T01:55:18.699306Z"
    }
   },
   "outputs": [],
   "source": [
    "# 수집된 링크를 접속하여 본문을 수집\n",
    "row_li = []\n",
    "for idx in tqdm_notebook(src_df.index):\n",
    "    item = src_df.loc[idx]['src']\n",
    "    if type(item) == list:\n",
    "        continue\n",
    "        \n",
    "    req = requests.get(mallurl + item, headers= headers)\n",
    "    soup = BeautifulSoup(req.text)\n",
    "    \n",
    "    try:\n",
    "        prdName = soup.select_one('.information a').text\n",
    "    except:\n",
    "        prdName = ''\n",
    "    content = soup.select_one('.typeWrite div.detail')\n",
    "    imgs = content.select('img')\n",
    "    img_src_li = []\n",
    "    for img in imgs:\n",
    "        src = img['src']\n",
    "        img_src_li.append(src)\n",
    "\n",
    "    context_text = content.text\n",
    "\n",
    "    etc = soup.select_one('.etcArea')\n",
    "\n",
    "    row = [prdName, img_src_li, context_text, etc]\n",
    "    row_li.append(row)\n",
    "    \n",
    "rdf = pd.DataFrame(row_li,columns=['prdname','img','text','etc'])\n",
    "rdf.to_excel('rdf.xlsx', index=False)"
   ]
  },
  {
   "cell_type": "code",
   "execution_count": null,
   "metadata": {},
   "outputs": [],
   "source": []
  },
  {
   "cell_type": "code",
   "execution_count": null,
   "metadata": {},
   "outputs": [],
   "source": []
  },
  {
   "cell_type": "code",
   "execution_count": null,
   "metadata": {},
   "outputs": [],
   "source": []
  },
  {
   "cell_type": "code",
   "execution_count": null,
   "metadata": {},
   "outputs": [],
   "source": []
  },
  {
   "cell_type": "code",
   "execution_count": null,
   "metadata": {},
   "outputs": [],
   "source": []
  }
 ],
 "metadata": {
  "hide_input": false,
  "kernelspec": {
   "display_name": "Python 3",
   "language": "python",
   "name": "python3"
  },
  "language_info": {
   "codemirror_mode": {
    "name": "ipython",
    "version": 3
   },
   "file_extension": ".py",
   "mimetype": "text/x-python",
   "name": "python",
   "nbconvert_exporter": "python",
   "pygments_lexer": "ipython3",
   "version": "3.7.4"
  },
  "toc": {
   "base_numbering": 1,
   "nav_menu": {},
   "number_sections": true,
   "sideBar": true,
   "skip_h1_title": false,
   "title_cell": "Table of Contents",
   "title_sidebar": "Contents",
   "toc_cell": false,
   "toc_position": {},
   "toc_section_display": true,
   "toc_window_display": false
  }
 },
 "nbformat": 4,
 "nbformat_minor": 2
}
